{
 "cells": [
  {
   "cell_type": "markdown",
   "id": "44432aff",
   "metadata": {},
   "source": [
    "## Image Classification on Caltech 101 Dataset\n"
   ]
  },
  {
   "cell_type": "code",
   "execution_count": 1,
   "id": "203e2678",
   "metadata": {},
   "outputs": [],
   "source": [
    "# For downloading dataset\n",
    "from urllib.request import urlretrieve\n",
    "import os\n",
    "\n",
    "# For extracting dataset\n",
    "import tarfile\n",
    "\n",
    "# For reading images\n",
    "import cv2\n",
    "\n",
    "# Essentials :)\n",
    "import numpy as np\n",
    "\n",
    "# pretty printing python objects\n",
    "import pprint\n",
    "\n",
    "# for sorting dictionary by value\n",
    "import operator\n",
    "\n",
    "# for showing images inline\n",
    "from matplotlib.pyplot import imshow \n",
    "%matplotlib inline \n",
    "\n",
    "# for making labels one-hot encoded\n",
    "from sklearn.preprocessing import LabelEncoder\n",
    "from keras.utils import to_categorical\n",
    "\n",
    "# for splitting data into training and validation data\n",
    "from sklearn.model_selection import train_test_split\n",
    "\n",
    "# for CNN and NN models\n",
    "from keras.models import Sequential, Model\n",
    "from keras.layers import Conv2D, Input, Dropout, Activation, Dense, MaxPooling2D, Flatten, GlobalAveragePooling2D\n",
    "from keras.optimizers import Adadelta\n",
    "from keras.callbacks import ModelCheckpoint\n",
    "from keras.callbacks import EarlyStopping\n",
    "from keras.models import load_model\n",
    "\n",
    "\n",
    "import tensorflow as tf\n",
    "from tensorflow import keras\n",
    "from tensorflow.keras import layers\n",
    "# For transfer learning\n",
    "from keras.applications.inception_v3 import InceptionV3\n",
    "\n",
    "# to save models\n",
    "import json\n",
    "\n",
    "\n",
    "# for printing size each variable is using\n",
    "import sys"
   ]
  },
  {
   "cell_type": "code",
   "execution_count": 2,
   "id": "37ba785f",
   "metadata": {},
   "outputs": [
    {
     "data": {
      "text/plain": [
       "'C:\\\\Users\\\\bassa'"
      ]
     },
     "execution_count": 2,
     "metadata": {},
     "output_type": "execute_result"
    }
   ],
   "source": [
    "current_directory = os.path.dirname(os.path.realpath('__file__'))\n",
    "current_directory"
   ]
  },
  {
   "cell_type": "code",
   "execution_count": null,
   "id": "b8fd1cbe",
   "metadata": {},
   "outputs": [],
   "source": [
    "tar = tarfile.open(\"C:\\\\Users\\\\bassa\\\\Downloads\\\\caltech-101\\\\caltech-101\\\\101_ObjectCategories.tar.gz\", \"r\")\n",
    "tar.extractall(path=\"C:\\\\Users\\\\bassa\\\\Downloads\\\\caltech-101\\\\caltech-101\")\n",
    "tar.close()"
   ]
  },
  {
   "cell_type": "code",
   "execution_count": 3,
   "id": "e42aa717",
   "metadata": {},
   "outputs": [],
   "source": [
    "def get_images(object_category, data_directory):\n",
    "    if (not os.path.exists(data_directory)):\n",
    "        print(\"Data directory not found. Are you sure you downloaded and extracted dataset properly?\")\n",
    "        return\n",
    "    obj_category_dir = os.path.join(os.path.join(data_directory,\"101_ObjectCategories\"),object_category)\n",
    "    images = [os.path.join(obj_category_dir,img) for img in os.listdir(obj_category_dir)]\n",
    "    return images\n",
    "\n",
    "def read_image(image_path):\n",
    "    \"\"\"Read and resize individual images - Caltech 101 avg size of image is 300x200, so we resize accordingly\"\"\"\n",
    "    img = cv2.imread(image_path, cv2.IMREAD_COLOR)\n",
    "    img = cv2.resize(img, (300,200), interpolation=cv2.INTER_CUBIC)\n",
    "    return img"
   ]
  },
  {
   "cell_type": "code",
   "execution_count": 4,
   "id": "487ad3f5",
   "metadata": {},
   "outputs": [],
   "source": [
    "def return_images_per_category(data_directory):\n",
    "    categories = os.listdir(data_directory+\"/101_ObjectCategories/\")\n",
    "    object_images_count_dict = {}\n",
    "    for category in categories:\n",
    "        object_images_count_dict[category] = len(os.listdir(data_directory+\"/101_ObjectCategories/\"+category))\n",
    "    object_images_count_dict = sorted(object_images_count_dict.items(), key=operator.itemgetter(1), reverse=True)\n",
    "    return object_images_count_dict"
   ]
  },
  {
   "cell_type": "code",
   "execution_count": 5,
   "id": "18742839",
   "metadata": {},
   "outputs": [
    {
     "data": {
      "text/plain": [
       "[('airplanes', 800),\n",
       " ('bonsai', 128),\n",
       " ('brain', 98),\n",
       " ('accordion', 55),\n",
       " ('bass', 54),\n",
       " ('barrel', 47),\n",
       " ('beaver', 46),\n",
       " ('brontosaurus', 43),\n",
       " ('anchor', 42),\n",
       " ('ant', 42),\n",
       " ('binocular', 33)]"
      ]
     },
     "execution_count": 5,
     "metadata": {},
     "output_type": "execute_result"
    }
   ],
   "source": [
    "return_images_per_category(\"C:\\\\Users\\\\bassa\\\\Downloads\\\\caltech-101\\\\calt\")"
   ]
  },
  {
   "cell_type": "code",
   "execution_count": 6,
   "id": "3d77e5e0",
   "metadata": {},
   "outputs": [
    {
     "data": {
      "text/plain": [
       "11"
      ]
     },
     "execution_count": 6,
     "metadata": {},
     "output_type": "execute_result"
    }
   ],
   "source": [
    "len(return_images_per_category(\"C:\\\\Users\\\\bassa\\\\Downloads\\\\caltech-101\\\\calt\"))"
   ]
  },
  {
   "cell_type": "markdown",
   "id": "400c8b97",
   "metadata": {},
   "source": [
    "The number of objects we need to classify is 101. So, we can actually ignore the BACKGROUND_Google directory\n",
    "\n",
    "The ROWS and COLS need to be fixed, however we have varied sized images. This is why the read_image method above resizes each image to 300x200 which is the average size of images (so most images wouldn't be affected).\n",
    "\n",
    "What's the total number of images we need in our dataset?"
   ]
  },
  {
   "cell_type": "code",
   "execution_count": 7,
   "id": "826d4bec",
   "metadata": {},
   "outputs": [
    {
     "name": "stdout",
     "output_type": "stream",
     "text": [
      "Total number of images in training data :  1388\n"
     ]
    }
   ],
   "source": [
    "total_count = 0\n",
    "for category,count in return_images_per_category(\"C:\\\\Users\\\\bassa\\\\Downloads\\\\caltech-101\\\\calt\"):\n",
    "    if category == 'BACKGROUND_Google':\n",
    "        continue;\n",
    "    total_count += count\n",
    "print(\"Total number of images in training data : \",total_count)"
   ]
  },
  {
   "cell_type": "code",
   "execution_count": 8,
   "id": "ae0929bc",
   "metadata": {},
   "outputs": [],
   "source": [
    "def create_training_data(data_directory):\n",
    "    i = 0\n",
    "    X = np.ndarray((1388, 200, 300, 3), dtype=np.uint8)\n",
    "    Y = []\n",
    "    print(\"Preparing X and Y for dataset...\")\n",
    "    for category,_ in return_images_per_category(data_directory):\n",
    "        if category == 'BACKGROUND_Google':\n",
    "            continue\n",
    "        print(\"Processing images of \",category)\n",
    "        for image in get_images(category, data_directory):\n",
    "            if not image.endswith('.jpg'):\n",
    "                # to escape hidden ipynb checkpoints and other unnecessary files \n",
    "                continue\n",
    "            X[i] = read_image(image)\n",
    "            Y.insert(i,category) \n",
    "            i += 1\n",
    "        print(\"Images processed : \",i+1,\" of 8678\")\n",
    "    print(\"Datasets constructed\")\n",
    "    return X,Y"
   ]
  },
  {
   "cell_type": "code",
   "execution_count": 9,
   "id": "ee761d8c",
   "metadata": {},
   "outputs": [
    {
     "name": "stdout",
     "output_type": "stream",
     "text": [
      "Preparing X and Y for dataset...\n",
      "Processing images of  airplanes\n",
      "Images processed :  801  of 8678\n",
      "Processing images of  bonsai\n",
      "Images processed :  929  of 8678\n",
      "Processing images of  brain\n",
      "Images processed :  1027  of 8678\n",
      "Processing images of  accordion\n",
      "Images processed :  1082  of 8678\n",
      "Processing images of  bass\n",
      "Images processed :  1136  of 8678\n",
      "Processing images of  barrel\n",
      "Images processed :  1183  of 8678\n",
      "Processing images of  beaver\n",
      "Images processed :  1229  of 8678\n",
      "Processing images of  brontosaurus\n",
      "Images processed :  1272  of 8678\n",
      "Processing images of  anchor\n",
      "Images processed :  1314  of 8678\n",
      "Processing images of  ant\n",
      "Images processed :  1356  of 8678\n",
      "Processing images of  binocular\n",
      "Images processed :  1389  of 8678\n",
      "Datasets constructed\n"
     ]
    }
   ],
   "source": [
    "X, Y = create_training_data(\"C:\\\\Users\\\\bassa\\\\Downloads\\\\caltech-101\\\\calt\")"
   ]
  },
  {
   "cell_type": "code",
   "execution_count": 10,
   "id": "f4a57d6d",
   "metadata": {},
   "outputs": [
    {
     "data": {
      "text/plain": [
       "(1388, 200, 300, 3)"
      ]
     },
     "execution_count": 10,
     "metadata": {},
     "output_type": "execute_result"
    }
   ],
   "source": [
    "X.shape"
   ]
  },
  {
   "cell_type": "code",
   "execution_count": null,
   "id": "1e9f94c0",
   "metadata": {},
   "outputs": [],
   "source": []
  },
  {
   "cell_type": "markdown",
   "id": "3180bf64",
   "metadata": {},
   "source": [
    "Let's check a random example and see if its class matches or not"
   ]
  },
  {
   "cell_type": "code",
   "execution_count": 11,
   "id": "1621d12e",
   "metadata": {},
   "outputs": [
    {
     "data": {
      "text/plain": [
       "'airplanes'"
      ]
     },
     "execution_count": 11,
     "metadata": {},
     "output_type": "execute_result"
    }
   ],
   "source": [
    "Y[676]"
   ]
  },
  {
   "cell_type": "code",
   "execution_count": 12,
   "id": "50593c11",
   "metadata": {},
   "outputs": [
    {
     "data": {
      "text/plain": [
       "<matplotlib.image.AxesImage at 0x22c7af01a50>"
      ]
     },
     "execution_count": 12,
     "metadata": {},
     "output_type": "execute_result"
    },
    {
     "data": {
      "image/png": "[encoded data removed]",
      "text/plain": [
       "<Figure size 432x288 with 1 Axes>"
      ]
     },
     "metadata": {
      "needs_background": "light"
     },
     "output_type": "display_data"
    }
   ],
   "source": [
    "imshow(X[676])"
   ]
  },
  {
   "cell_type": "markdown",
   "id": "58188a7d",
   "metadata": {},
   "source": [
    "Making one-hot encoded labels"
   ]
  },
  {
   "cell_type": "code",
   "execution_count": 13,
   "id": "58094835",
   "metadata": {},
   "outputs": [
    {
     "data": {
      "text/plain": [
       "array([1, 1, 1, ..., 7, 7, 7], dtype=int64)"
      ]
     },
     "execution_count": 13,
     "metadata": {},
     "output_type": "execute_result"
    }
   ],
   "source": [
    "label_encoder = LabelEncoder()\n",
    "Y_integer_encoded = label_encoder.fit_transform(Y)\n",
    "Y_integer_encoded"
   ]
  },
  {
   "cell_type": "code",
   "execution_count": 14,
   "id": "5be5386c",
   "metadata": {},
   "outputs": [],
   "source": [
    "np.save('label_encoder.npy', label_encoder.classes_)"
   ]
  },
  {
   "cell_type": "code",
   "execution_count": 15,
   "id": "788bb172",
   "metadata": {},
   "outputs": [
    {
     "data": {
      "text/plain": [
       "1388"
      ]
     },
     "execution_count": 15,
     "metadata": {},
     "output_type": "execute_result"
    }
   ],
   "source": [
    "len(Y_integer_encoded)"
   ]
  },
  {
   "cell_type": "code",
   "execution_count": 16,
   "id": "0b184c08",
   "metadata": {},
   "outputs": [
    {
     "data": {
      "text/plain": [
       "1388"
      ]
     },
     "execution_count": 16,
     "metadata": {},
     "output_type": "execute_result"
    }
   ],
   "source": [
    "len(Y)"
   ]
  },
  {
   "cell_type": "code",
   "execution_count": 17,
   "id": "185ebee4",
   "metadata": {},
   "outputs": [
    {
     "data": {
      "text/plain": [
       "1388"
      ]
     },
     "execution_count": 17,
     "metadata": {},
     "output_type": "execute_result"
    }
   ],
   "source": [
    "len(X)"
   ]
  },
  {
   "cell_type": "markdown",
   "id": "f0521653",
   "metadata": {},
   "source": [
    "Integers have ordering property which we don't want our ML models to learn since an apple isn't in any way greater than an airplane. So, we must create a one-hot encoding."
   ]
  },
  {
   "cell_type": "code",
   "execution_count": 18,
   "id": "dc79727f",
   "metadata": {},
   "outputs": [
    {
     "data": {
      "text/plain": [
       "array([[0., 1., 0., ..., 0., 0., 0.],\n",
       "       [0., 1., 0., ..., 0., 0., 0.],\n",
       "       [0., 1., 0., ..., 0., 0., 0.],\n",
       "       ...,\n",
       "       [0., 0., 0., ..., 0., 0., 0.],\n",
       "       [0., 0., 0., ..., 0., 0., 0.],\n",
       "       [0., 0., 0., ..., 0., 0., 0.]], dtype=float32)"
      ]
     },
     "execution_count": 18,
     "metadata": {},
     "output_type": "execute_result"
    }
   ],
   "source": [
    "Y_one_hot = to_categorical(Y_integer_encoded)\n",
    "Y_one_hot"
   ]
  },
  {
   "cell_type": "code",
   "execution_count": 19,
   "id": "94c51309",
   "metadata": {},
   "outputs": [
    {
     "data": {
      "text/plain": [
       "array([0., 1., 0., 0., 0., 0., 0., 0., 0., 0., 0.], dtype=float32)"
      ]
     },
     "execution_count": 19,
     "metadata": {},
     "output_type": "execute_result"
    }
   ],
   "source": [
    "Y_one_hot[0]"
   ]
  },
  {
   "cell_type": "code",
   "execution_count": 20,
   "id": "2d759d15",
   "metadata": {},
   "outputs": [
    {
     "data": {
      "text/plain": [
       "(1388, 11)"
      ]
     },
     "execution_count": 20,
     "metadata": {},
     "output_type": "execute_result"
    }
   ],
   "source": [
    "Y_one_hot.shape"
   ]
  },
  {
   "cell_type": "code",
   "execution_count": 21,
   "id": "9a13d0fd",
   "metadata": {},
   "outputs": [
    {
     "data": {
      "text/plain": [
       "11"
      ]
     },
     "execution_count": 21,
     "metadata": {},
     "output_type": "execute_result"
    }
   ],
   "source": [
    "len(Y_one_hot[0])"
   ]
  },
  {
   "cell_type": "markdown",
   "id": "8aa9d39d",
   "metadata": {},
   "source": [
    "Basic Normalization"
   ]
  },
  {
   "cell_type": "code",
   "execution_count": 22,
   "id": "b8dd5dac",
   "metadata": {},
   "outputs": [],
   "source": [
    "X_normalized = X.astype(np.float64) / 255"
   ]
  },
  {
   "cell_type": "code",
   "execution_count": 23,
   "id": "d6b38feb",
   "metadata": {},
   "outputs": [
    {
     "data": {
      "text/plain": [
       "array([[[255, 255, 255],\n",
       "        [255, 255, 255],\n",
       "        [255, 255, 255],\n",
       "        ...,\n",
       "        [255, 255, 255],\n",
       "        [255, 255, 255],\n",
       "        [255, 255, 255]],\n",
       "\n",
       "       [[255, 255, 255],\n",
       "        [255, 255, 255],\n",
       "        [255, 255, 255],\n",
       "        ...,\n",
       "        [255, 255, 255],\n",
       "        [255, 255, 255],\n",
       "        [255, 255, 255]],\n",
       "\n",
       "       [[255, 255, 255],\n",
       "        [255, 255, 255],\n",
       "        [255, 255, 255],\n",
       "        ...,\n",
       "        [255, 255, 255],\n",
       "        [255, 255, 255],\n",
       "        [255, 255, 255]],\n",
       "\n",
       "       ...,\n",
       "\n",
       "       [[255, 255, 255],\n",
       "        [255, 255, 255],\n",
       "        [255, 255, 255],\n",
       "        ...,\n",
       "        [255, 255, 255],\n",
       "        [255, 255, 255],\n",
       "        [255, 255, 255]],\n",
       "\n",
       "       [[255, 255, 255],\n",
       "        [255, 255, 255],\n",
       "        [255, 255, 255],\n",
       "        ...,\n",
       "        [255, 255, 255],\n",
       "        [255, 255, 255],\n",
       "        [255, 255, 255]],\n",
       "\n",
       "       [[255, 255, 255],\n",
       "        [255, 255, 255],\n",
       "        [255, 255, 255],\n",
       "        ...,\n",
       "        [255, 255, 255],\n",
       "        [255, 255, 255],\n",
       "        [255, 255, 255]]], dtype=uint8)"
      ]
     },
     "execution_count": 23,
     "metadata": {},
     "output_type": "execute_result"
    }
   ],
   "source": [
    "X[0]"
   ]
  },
  {
   "cell_type": "code",
   "execution_count": 24,
   "id": "94eb68c7",
   "metadata": {},
   "outputs": [
    {
     "data": {
      "text/plain": [
       "array([[[1., 1., 1.],\n",
       "        [1., 1., 1.],\n",
       "        [1., 1., 1.],\n",
       "        ...,\n",
       "        [1., 1., 1.],\n",
       "        [1., 1., 1.],\n",
       "        [1., 1., 1.]],\n",
       "\n",
       "       [[1., 1., 1.],\n",
       "        [1., 1., 1.],\n",
       "        [1., 1., 1.],\n",
       "        ...,\n",
       "        [1., 1., 1.],\n",
       "        [1., 1., 1.],\n",
       "        [1., 1., 1.]],\n",
       "\n",
       "       [[1., 1., 1.],\n",
       "        [1., 1., 1.],\n",
       "        [1., 1., 1.],\n",
       "        ...,\n",
       "        [1., 1., 1.],\n",
       "        [1., 1., 1.],\n",
       "        [1., 1., 1.]],\n",
       "\n",
       "       ...,\n",
       "\n",
       "       [[1., 1., 1.],\n",
       "        [1., 1., 1.],\n",
       "        [1., 1., 1.],\n",
       "        ...,\n",
       "        [1., 1., 1.],\n",
       "        [1., 1., 1.],\n",
       "        [1., 1., 1.]],\n",
       "\n",
       "       [[1., 1., 1.],\n",
       "        [1., 1., 1.],\n",
       "        [1., 1., 1.],\n",
       "        ...,\n",
       "        [1., 1., 1.],\n",
       "        [1., 1., 1.],\n",
       "        [1., 1., 1.]],\n",
       "\n",
       "       [[1., 1., 1.],\n",
       "        [1., 1., 1.],\n",
       "        [1., 1., 1.],\n",
       "        ...,\n",
       "        [1., 1., 1.],\n",
       "        [1., 1., 1.],\n",
       "        [1., 1., 1.]]])"
      ]
     },
     "execution_count": 24,
     "metadata": {},
     "output_type": "execute_result"
    }
   ],
   "source": [
    "X_normalized[0]"
   ]
  },
  {
   "cell_type": "code",
   "execution_count": 25,
   "id": "a467f9c7",
   "metadata": {},
   "outputs": [],
   "source": [
    "del X"
   ]
  },
  {
   "cell_type": "markdown",
   "id": "3779d089",
   "metadata": {},
   "source": [
    "Splitting the Data"
   ]
  },
  {
   "cell_type": "code",
   "execution_count": 26,
   "id": "a6b459b7",
   "metadata": {},
   "outputs": [],
   "source": [
    "X_train, X_validation, Y_train, Y_validation = train_test_split(X_normalized, Y_one_hot, test_size=0.25, random_state=42)"
   ]
  },
  {
   "cell_type": "code",
   "execution_count": 27,
   "id": "6df1c175",
   "metadata": {},
   "outputs": [
    {
     "data": {
      "text/plain": [
       "(1041, 200, 300, 3)"
      ]
     },
     "execution_count": 27,
     "metadata": {},
     "output_type": "execute_result"
    }
   ],
   "source": [
    "X_train.shape"
   ]
  },
  {
   "cell_type": "code",
   "execution_count": 28,
   "id": "2300639e",
   "metadata": {},
   "outputs": [
    {
     "data": {
      "text/plain": [
       "(1041, 11)"
      ]
     },
     "execution_count": 28,
     "metadata": {},
     "output_type": "execute_result"
    }
   ],
   "source": [
    "Y_train.shape"
   ]
  },
  {
   "cell_type": "code",
   "execution_count": 29,
   "id": "bb2d80de",
   "metadata": {},
   "outputs": [
    {
     "data": {
      "text/plain": [
       "<matplotlib.image.AxesImage at 0x22c7d013fd0>"
      ]
     },
     "execution_count": 29,
     "metadata": {},
     "output_type": "execute_result"
    },
    {
     "data": {
      "image/png": "[encoded data removed]",
      "text/plain": [
       "<Figure size 432x288 with 1 Axes>"
      ]
     },
     "metadata": {
      "needs_background": "light"
     },
     "output_type": "display_data"
    }
   ],
   "source": [
    "imshow(X_train[601])"
   ]
  },
  {
   "cell_type": "markdown",
   "id": "09c4b647",
   "metadata": {},
   "source": [
    "model_rnn = keras.Sequential()\n",
    "model_rnn.add(layers.Embedding(input_dim=(200,300),output_dim=64))\n",
    "model_rnn.add(layers.LSTM(128))\n",
    "model_rnn.add(layers.Dense(5))\n",
    "model_rnn.summary"
   ]
  },
  {
   "cell_type": "markdown",
   "id": "7c075b42",
   "metadata": {},
   "source": [
    "## Approach 1 - A Small CNN"
   ]
  },
  {
   "cell_type": "code",
   "execution_count": 30,
   "id": "76033cad",
   "metadata": {},
   "outputs": [
    {
     "name": "stdout",
     "output_type": "stream",
     "text": [
      "Model: \"sequential\"\n",
      "_________________________________________________________________\n",
      " Layer (type)                Output Shape              Param #   \n",
      "=================================================================\n",
      " conv2d (Conv2D)             (None, 198, 298, 16)      448       \n",
      "                                                                 \n",
      " conv2d_1 (Conv2D)           (None, 196, 296, 32)      4640      \n",
      "                                                                 \n",
      " max_pooling2d (MaxPooling2D  (None, 98, 148, 32)      0         \n",
      " )                                                               \n",
      "                                                                 \n",
      " conv2d_2 (Conv2D)           (None, 96, 146, 64)       18496     \n",
      "                                                                 \n",
      " conv2d_3 (Conv2D)           (None, 94, 144, 128)      73856     \n",
      "                                                                 \n",
      " max_pooling2d_1 (MaxPooling  (None, 47, 72, 128)      0         \n",
      " 2D)                                                             \n",
      "                                                                 \n",
      " flatten (Flatten)           (None, 433152)            0         \n",
      "                                                                 \n",
      " dense (Dense)               (None, 11)                4764683   \n",
      "                                                                 \n",
      "=================================================================\n",
      "Total params: 4,862,123\n",
      "Trainable params: 4,862,123\n",
      "Non-trainable params: 0\n",
      "_________________________________________________________________\n"
     ]
    }
   ],
   "source": [
    "model_cnn = Sequential()\n",
    "model_cnn.add(Conv2D(16, (3,3), activation='relu', input_shape=(200,300,3)))\n",
    "model_cnn.add(Conv2D(32, (3,3), activation='relu'))\n",
    "model_cnn.add(MaxPooling2D(pool_size=2, strides=2))\n",
    "model_cnn.add(Conv2D(64, (3,3), activation='relu'))\n",
    "model_cnn.add(Conv2D(128, (3,3), activation='relu'))\n",
    "model_cnn.add(MaxPooling2D(pool_size=2, strides=2))\n",
    "model_cnn.add(Flatten())\n",
    "model_cnn.add(Dense(11, activation='softmax'))\n",
    "model_cnn.summary()"
   ]
  },
  {
   "cell_type": "code",
   "execution_count": 31,
   "id": "2b9b7b7c",
   "metadata": {},
   "outputs": [],
   "source": [
    "model_cnn.compile(loss='categorical_crossentropy',optimizer='adam', metrics=['accuracy'])"
   ]
  },
  {
   "cell_type": "code",
   "execution_count": 32,
   "id": "d67b9bfd",
   "metadata": {},
   "outputs": [
    {
     "name": "stdout",
     "output_type": "stream",
     "text": [
      "Epoch 1/30\n",
      "17/17 [==============================] - 69s 4s/step - loss: 2.6344 - accuracy: 0.5159 - val_loss: 1.3058 - val_accuracy: 0.6455\n",
      "Epoch 2/30\n",
      "17/17 [==============================] - 67s 4s/step - loss: 0.8878 - accuracy: 0.7368 - val_loss: 1.1149 - val_accuracy: 0.7147\n",
      "Epoch 3/30\n",
      "17/17 [==============================] - 67s 4s/step - loss: 0.4518 - accuracy: 0.8626 - val_loss: 1.0140 - val_accuracy: 0.7205\n",
      "Epoch 4/30\n",
      "17/17 [==============================] - 67s 4s/step - loss: 0.1808 - accuracy: 0.9433 - val_loss: 1.3772 - val_accuracy: 0.7522\n",
      "Epoch 5/30\n",
      "17/17 [==============================] - 66s 4s/step - loss: 0.0762 - accuracy: 0.9721 - val_loss: 1.6034 - val_accuracy: 0.7205\n",
      "Epoch 6/30\n",
      "17/17 [==============================] - 67s 4s/step - loss: 0.0335 - accuracy: 0.9914 - val_loss: 1.4829 - val_accuracy: 0.7464\n",
      "Epoch 7/30\n",
      "17/17 [==============================] - 66s 4s/step - loss: 0.0175 - accuracy: 0.9981 - val_loss: 1.9437 - val_accuracy: 0.7233\n",
      "Epoch 7: early stopping\n"
     ]
    }
   ],
   "source": [
    "callbacks = [EarlyStopping(monitor='val_loss', patience=4, verbose=1, mode='auto')]\n",
    "history1 = model_cnn.fit(X_train, Y_train, batch_size=64, epochs=30, verbose=1, validation_data=(X_validation,Y_validation), callbacks=callbacks)"
   ]
  },
  {
   "cell_type": "code",
   "execution_count": 39,
   "id": "33e2123d",
   "metadata": {},
   "outputs": [
    {
     "data": {
      "image/png": "[encoded data removed]",
      "text/plain": [
       "<Figure size 432x288 with 1 Axes>"
      ]
     },
     "metadata": {
      "needs_background": "light"
     },
     "output_type": "display_data"
    }
   ],
   "source": [
    "import matplotlib.pyplot as plt\n",
    "\n",
    "plt.plot(history1.history['accuracy'])\n",
    "plt.plot(history1.history['val_accuracy'])\n",
    "plt.title('model accuracy')\n",
    "plt.ylabel('accuracy')\n",
    "plt.xlabel('epoch')\n",
    "plt.legend(['train', 'test'], loc='upper left')\n",
    "plt.show()"
   ]
  },
  {
   "cell_type": "markdown",
   "id": "76061a4a",
   "metadata": {},
   "source": [
    "## Approach 2 - CNN Model with Dropout"
   ]
  },
  {
   "cell_type": "code",
   "execution_count": 43,
   "id": "a00f870b",
   "metadata": {},
   "outputs": [
    {
     "name": "stdout",
     "output_type": "stream",
     "text": [
      "Model: \"sequential_3\"\n",
      "_________________________________________________________________\n",
      " Layer (type)                Output Shape              Param #   \n",
      "=================================================================\n",
      " conv2d_106 (Conv2D)         (None, 198, 298, 32)      896       \n",
      "                                                                 \n",
      " conv2d_107 (Conv2D)         (None, 196, 296, 32)      9248      \n",
      "                                                                 \n",
      " max_pooling2d_10 (MaxPoolin  (None, 98, 148, 32)      0         \n",
      " g2D)                                                            \n",
      "                                                                 \n",
      " conv2d_108 (Conv2D)         (None, 96, 146, 64)       18496     \n",
      "                                                                 \n",
      " conv2d_109 (Conv2D)         (None, 94, 144, 64)       36928     \n",
      "                                                                 \n",
      " max_pooling2d_11 (MaxPoolin  (None, 47, 72, 64)       0         \n",
      " g2D)                                                            \n",
      "                                                                 \n",
      " flatten_3 (Flatten)         (None, 216576)            0         \n",
      "                                                                 \n",
      " dense_8 (Dense)             (None, 512)               110887424 \n",
      "                                                                 \n",
      " dropout_4 (Dropout)         (None, 512)               0         \n",
      "                                                                 \n",
      " dense_9 (Dense)             (None, 11)                5643      \n",
      "                                                                 \n",
      "=================================================================\n",
      "Total params: 110,958,635\n",
      "Trainable params: 110,958,635\n",
      "Non-trainable params: 0\n",
      "_________________________________________________________________\n",
      "Epoch 1/10\n",
      "66/66 [==============================] - ETA: 0s - loss: 1.7823 - accuracy: 0.5591WARNING:tensorflow:Can save best model only with val_acc available, skipping.\n",
      "66/66 [==============================] - 101s 2s/step - loss: 1.7823 - accuracy: 0.5591 - val_loss: 2.2646 - val_accuracy: 0.5533\n",
      "Epoch 2/10\n",
      "66/66 [==============================] - ETA: 0s - loss: 1.4777 - accuracy: 0.5956WARNING:tensorflow:Can save best model only with val_acc available, skipping.\n",
      "66/66 [==============================] - 99s 1s/step - loss: 1.4777 - accuracy: 0.5956 - val_loss: 4.1126 - val_accuracy: 0.1527\n",
      "Epoch 3/10\n",
      "66/66 [==============================] - ETA: 0s - loss: 1.4578 - accuracy: 0.5946WARNING:tensorflow:Can save best model only with val_acc available, skipping.\n",
      "66/66 [==============================] - 97s 1s/step - loss: 1.4578 - accuracy: 0.5946 - val_loss: 1.8872 - val_accuracy: 0.4207\n",
      "Epoch 4/10\n",
      "66/66 [==============================] - ETA: 0s - loss: 1.2102 - accuracy: 0.6273WARNING:tensorflow:Can save best model only with val_acc available, skipping.\n",
      "66/66 [==============================] - 101s 2s/step - loss: 1.2102 - accuracy: 0.6273 - val_loss: 1.2791 - val_accuracy: 0.6138\n",
      "Epoch 5/10\n",
      "66/66 [==============================] - ETA: 0s - loss: 1.0591 - accuracy: 0.6657WARNING:tensorflow:Can save best model only with val_acc available, skipping.\n",
      "66/66 [==============================] - 102s 2s/step - loss: 1.0591 - accuracy: 0.6657 - val_loss: 1.8590 - val_accuracy: 0.5533\n",
      "Epoch 6/10\n",
      "66/66 [==============================] - ETA: 0s - loss: 1.1494 - accuracy: 0.6571WARNING:tensorflow:Can save best model only with val_acc available, skipping.\n",
      "66/66 [==============================] - 102s 2s/step - loss: 1.1494 - accuracy: 0.6571 - val_loss: 1.1716 - val_accuracy: 0.6369\n",
      "Epoch 7/10\n",
      "66/66 [==============================] - ETA: 0s - loss: 0.9098 - accuracy: 0.7089WARNING:tensorflow:Can save best model only with val_acc available, skipping.\n",
      "66/66 [==============================] - 104s 2s/step - loss: 0.9098 - accuracy: 0.7089 - val_loss: 1.1805 - val_accuracy: 0.6859\n",
      "Epoch 8/10\n",
      "66/66 [==============================] - ETA: 0s - loss: 0.8936 - accuracy: 0.7147WARNING:tensorflow:Can save best model only with val_acc available, skipping.\n",
      "66/66 [==============================] - 105s 2s/step - loss: 0.8936 - accuracy: 0.7147 - val_loss: 1.0287 - val_accuracy: 0.6916\n",
      "Epoch 9/10\n",
      "66/66 [==============================] - ETA: 0s - loss: 0.7616 - accuracy: 0.7589WARNING:tensorflow:Can save best model only with val_acc available, skipping.\n",
      "66/66 [==============================] - 99s 2s/step - loss: 0.7616 - accuracy: 0.7589 - val_loss: 1.7142 - val_accuracy: 0.5072\n",
      "Epoch 10/10\n",
      "66/66 [==============================] - ETA: 0s - loss: 0.7799 - accuracy: 0.7704WARNING:tensorflow:Can save best model only with val_acc available, skipping.\n",
      "66/66 [==============================] - 98s 1s/step - loss: 0.7799 - accuracy: 0.7704 - val_loss: 3.5892 - val_accuracy: 0.5476\n"
     ]
    }
   ],
   "source": [
    "# Architecture\n",
    "model_cnn_dropout = Sequential()\n",
    "model_cnn_dropout.add(Conv2D(32, (3,3), activation='relu', input_shape=(200,300,3)))\n",
    "model_cnn_dropout.add(Conv2D(32, (3,3), activation='relu'))\n",
    "model_cnn_dropout.add(MaxPooling2D(pool_size=2, strides=2))\n",
    "model_cnn_dropout.add(Conv2D(64, (3,3), activation='relu'))\n",
    "model_cnn_dropout.add(Conv2D(64, (3,3), activation='relu'))\n",
    "model_cnn_dropout.add(MaxPooling2D(pool_size=2, strides=2))\n",
    "model_cnn_dropout.add(Flatten())\n",
    "model_cnn_dropout.add(Dense(512, activation='relu'))\n",
    "model_cnn_dropout.add(Dropout(0.5))\n",
    "model_cnn_dropout.add(Dense(11, activation='softmax'))\n",
    "model_cnn_dropout.summary()\n",
    "\n",
    "# loss and optimizer\n",
    "model_cnn_dropout.compile(loss='categorical_crossentropy',optimizer='sgd', metrics=['accuracy'])\n",
    "\n",
    "# training\n",
    "callbacks = [ModelCheckpoint('cnn_model_dropout_two.h5', monitor='val_acc', save_best_only=True),\n",
    "            EarlyStopping(monitor='val_loss', patience=4, verbose=1, mode='auto')]\n",
    "histor3 = model_cnn_dropout.fit(X_train, Y_train, batch_size=16, epochs=10, verbose=1, validation_data=(X_validation,Y_validation), callbacks=callbacks)"
   ]
  },
  {
   "cell_type": "code",
   "execution_count": 44,
   "id": "2fbc1e15",
   "metadata": {},
   "outputs": [
    {
     "data": {
      "image/png": "[encoded data removed]",
      "text/plain": [
       "<Figure size 432x288 with 1 Axes>"
      ]
     },
     "metadata": {
      "needs_background": "light"
     },
     "output_type": "display_data"
    }
   ],
   "source": [
    "plt.plot(histor3.history['accuracy'])\n",
    "plt.plot(histor3.history['val_accuracy'])\n",
    "plt.title('model accuracy')\n",
    "plt.ylabel('accuracy')\n",
    "plt.xlabel('epoch')\n",
    "plt.legend(['train', 'test'], loc='upper left')\n",
    "plt.show()"
   ]
  },
  {
   "cell_type": "markdown",
   "id": "31bce80f",
   "metadata": {},
   "source": [
    "## Approach 3 - Transfer Learning"
   ]
  },
  {
   "cell_type": "code",
   "execution_count": 33,
   "id": "cc8a7c2a",
   "metadata": {},
   "outputs": [
    {
     "name": "stdout",
     "output_type": "stream",
     "text": [
      "Model: \"model\"\n",
      "__________________________________________________________________________________________________\n",
      " Layer (type)                   Output Shape         Param #     Connected to                     \n",
      "==================================================================================================\n",
      " input_1 (InputLayer)           [(None, None, None,  0           []                               \n",
      "                                 3)]                                                              \n",
      "                                                                                                  \n",
      " conv2d_4 (Conv2D)              (None, None, None,   864         ['input_1[0][0]']                \n",
      "                                32)                                                               \n",
      "                                                                                                  \n",
      " batch_normalization (BatchNorm  (None, None, None,   96         ['conv2d_4[0][0]']               \n",
      " alization)                     32)                                                               \n",
      "                                                                                                  \n",
      " activation (Activation)        (None, None, None,   0           ['batch_normalization[0][0]']    \n",
      "                                32)                                                               \n",
      "                                                                                                  \n",
      " conv2d_5 (Conv2D)              (None, None, None,   9216        ['activation[0][0]']             \n",
      "                                32)                                                               \n",
      "                                                                                                  \n",
      " batch_normalization_1 (BatchNo  (None, None, None,   96         ['conv2d_5[0][0]']               \n",
      " rmalization)                   32)                                                               \n",
      "                                                                                                  \n",
      " activation_1 (Activation)      (None, None, None,   0           ['batch_normalization_1[0][0]']  \n",
      "                                32)                                                               \n",
      "                                                                                                  \n",
      " conv2d_6 (Conv2D)              (None, None, None,   18432       ['activation_1[0][0]']           \n",
      "                                64)                                                               \n",
      "                                                                                                  \n",
      " batch_normalization_2 (BatchNo  (None, None, None,   192        ['conv2d_6[0][0]']               \n",
      " rmalization)                   64)                                                               \n",
      "                                                                                                  \n",
      " activation_2 (Activation)      (None, None, None,   0           ['batch_normalization_2[0][0]']  \n",
      "                                64)                                                               \n",
      "                                                                                                  \n",
      " max_pooling2d_2 (MaxPooling2D)  (None, None, None,   0          ['activation_2[0][0]']           \n",
      "                                64)                                                               \n",
      "                                                                                                  \n",
      " conv2d_7 (Conv2D)              (None, None, None,   5120        ['max_pooling2d_2[0][0]']        \n",
      "                                80)                                                               \n",
      "                                                                                                  \n",
      " batch_normalization_3 (BatchNo  (None, None, None,   240        ['conv2d_7[0][0]']               \n",
      " rmalization)                   80)                                                               \n",
      "                                                                                                  \n",
      " activation_3 (Activation)      (None, None, None,   0           ['batch_normalization_3[0][0]']  \n",
      "                                80)                                                               \n",
      "                                                                                                  \n",
      " conv2d_8 (Conv2D)              (None, None, None,   138240      ['activation_3[0][0]']           \n",
      "                                192)                                                              \n",
      "                                                                                                  \n",
      " batch_normalization_4 (BatchNo  (None, None, None,   576        ['conv2d_8[0][0]']               \n",
      " rmalization)                   192)                                                              \n",
      "                                                                                                  \n",
      " activation_4 (Activation)      (None, None, None,   0           ['batch_normalization_4[0][0]']  \n",
      "                                192)                                                              \n",
      "                                                                                                  \n",
      " max_pooling2d_3 (MaxPooling2D)  (None, None, None,   0          ['activation_4[0][0]']           \n",
      "                                192)                                                              \n",
      "                                                                                                  \n",
      " conv2d_12 (Conv2D)             (None, None, None,   12288       ['max_pooling2d_3[0][0]']        \n",
      "                                64)                                                               \n",
      "                                                                                                  \n",
      " batch_normalization_8 (BatchNo  (None, None, None,   192        ['conv2d_12[0][0]']              \n",
      " rmalization)                   64)                                                               \n",
      "                                                                                                  \n",
      " activation_8 (Activation)      (None, None, None,   0           ['batch_normalization_8[0][0]']  \n",
      "                                64)                                                               \n",
      "                                                                                                  \n",
      " conv2d_10 (Conv2D)             (None, None, None,   9216        ['max_pooling2d_3[0][0]']        \n",
      "                                48)                                                               \n",
      "                                                                                                  \n",
      " conv2d_13 (Conv2D)             (None, None, None,   55296       ['activation_8[0][0]']           \n",
      "                                96)                                                               \n",
      "                                                                                                  \n",
      " batch_normalization_6 (BatchNo  (None, None, None,   144        ['conv2d_10[0][0]']              \n",
      " rmalization)                   48)                                                               \n",
      "                                                                                                  \n",
      " batch_normalization_9 (BatchNo  (None, None, None,   288        ['conv2d_13[0][0]']              \n",
      " rmalization)                   96)                                                               \n",
      "                                                                                                  \n",
      " activation_6 (Activation)      (None, None, None,   0           ['batch_normalization_6[0][0]']  \n",
      "                                48)                                                               \n",
      "                                                                                                  \n",
      " activation_9 (Activation)      (None, None, None,   0           ['batch_normalization_9[0][0]']  \n",
      "                                96)                                                               \n",
      "                                                                                                  \n",
      " average_pooling2d (AveragePool  (None, None, None,   0          ['max_pooling2d_3[0][0]']        \n",
      " ing2D)                         192)                                                              \n",
      "                                                                                                  \n",
      " conv2d_9 (Conv2D)              (None, None, None,   12288       ['max_pooling2d_3[0][0]']        \n",
      "                                64)                                                               \n",
      "                                                                                                  \n",
      " conv2d_11 (Conv2D)             (None, None, None,   76800       ['activation_6[0][0]']           \n",
      "                                64)                                                               \n",
      "                                                                                                  \n",
      " conv2d_14 (Conv2D)             (None, None, None,   82944       ['activation_9[0][0]']           \n",
      "                                96)                                                               \n",
      "                                                                                                  \n",
      " conv2d_15 (Conv2D)             (None, None, None,   6144        ['average_pooling2d[0][0]']      \n",
      "                                32)                                                               \n",
      "                                                                                                  \n",
      " batch_normalization_5 (BatchNo  (None, None, None,   192        ['conv2d_9[0][0]']               \n",
      " rmalization)                   64)                                                               \n",
      "                                                                                                  \n",
      " batch_normalization_7 (BatchNo  (None, None, None,   192        ['conv2d_11[0][0]']              \n",
      " rmalization)                   64)                                                               \n",
      "                                                                                                  \n",
      " batch_normalization_10 (BatchN  (None, None, None,   288        ['conv2d_14[0][0]']              \n",
      " ormalization)                  96)                                                               \n",
      "                                                                                                  \n",
      " batch_normalization_11 (BatchN  (None, None, None,   96         ['conv2d_15[0][0]']              \n",
      " ormalization)                  32)                                                               \n",
      "                                                                                                  \n",
      " activation_5 (Activation)      (None, None, None,   0           ['batch_normalization_5[0][0]']  \n",
      "                                64)                                                               \n",
      "                                                                                                  \n",
      " activation_7 (Activation)      (None, None, None,   0           ['batch_normalization_7[0][0]']  \n",
      "                                64)                                                               \n",
      "                                                                                                  \n",
      " activation_10 (Activation)     (None, None, None,   0           ['batch_normalization_10[0][0]'] \n",
      "                                96)                                                               \n",
      "                                                                                                  \n",
      " activation_11 (Activation)     (None, None, None,   0           ['batch_normalization_11[0][0]'] \n",
      "                                32)                                                               \n",
      "                                                                                                  \n",
      " mixed0 (Concatenate)           (None, None, None,   0           ['activation_5[0][0]',           \n",
      "                                256)                              'activation_7[0][0]',           \n",
      "                                                                  'activation_10[0][0]',          \n",
      "                                                                  'activation_11[0][0]']          \n",
      "                                                                                                  \n",
      " conv2d_19 (Conv2D)             (None, None, None,   16384       ['mixed0[0][0]']                 \n",
      "                                64)                                                               \n",
      "                                                                                                  \n",
      " batch_normalization_15 (BatchN  (None, None, None,   192        ['conv2d_19[0][0]']              \n",
      " ormalization)                  64)                                                               \n",
      "                                                                                                  \n",
      " activation_15 (Activation)     (None, None, None,   0           ['batch_normalization_15[0][0]'] \n",
      "                                64)                                                               \n",
      "                                                                                                  \n",
      " conv2d_17 (Conv2D)             (None, None, None,   12288       ['mixed0[0][0]']                 \n",
      "                                48)                                                               \n",
      "                                                                                                  \n",
      " conv2d_20 (Conv2D)             (None, None, None,   55296       ['activation_15[0][0]']          \n",
      "                                96)                                                               \n",
      "                                                                                                  \n",
      " batch_normalization_13 (BatchN  (None, None, None,   144        ['conv2d_17[0][0]']              \n",
      " ormalization)                  48)                                                               \n",
      "                                                                                                  \n",
      " batch_normalization_16 (BatchN  (None, None, None,   288        ['conv2d_20[0][0]']              \n",
      " ormalization)                  96)                                                               \n",
      "                                                                                                  \n",
      " activation_13 (Activation)     (None, None, None,   0           ['batch_normalization_13[0][0]'] \n",
      "                                48)                                                               \n",
      "                                                                                                  \n",
      " activation_16 (Activation)     (None, None, None,   0           ['batch_normalization_16[0][0]'] \n",
      "                                96)                                                               \n",
      "                                                                                                  \n",
      " average_pooling2d_1 (AveragePo  (None, None, None,   0          ['mixed0[0][0]']                 \n",
      " oling2D)                       256)                                                              \n",
      "                                                                                                  \n",
      " conv2d_16 (Conv2D)             (None, None, None,   16384       ['mixed0[0][0]']                 \n",
      "                                64)                                                               \n",
      "                                                                                                  \n",
      " conv2d_18 (Conv2D)             (None, None, None,   76800       ['activation_13[0][0]']          \n",
      "                                64)                                                               \n",
      "                                                                                                  \n",
      " conv2d_21 (Conv2D)             (None, None, None,   82944       ['activation_16[0][0]']          \n",
      "                                96)                                                               \n",
      "                                                                                                  \n",
      " conv2d_22 (Conv2D)             (None, None, None,   16384       ['average_pooling2d_1[0][0]']    \n",
      "                                64)                                                               \n",
      "                                                                                                  \n",
      " batch_normalization_12 (BatchN  (None, None, None,   192        ['conv2d_16[0][0]']              \n",
      " ormalization)                  64)                                                               \n",
      "                                                                                                  \n",
      " batch_normalization_14 (BatchN  (None, None, None,   192        ['conv2d_18[0][0]']              \n",
      " ormalization)                  64)                                                               \n",
      "                                                                                                  \n",
      " batch_normalization_17 (BatchN  (None, None, None,   288        ['conv2d_21[0][0]']              \n",
      " ormalization)                  96)                                                               \n",
      "                                                                                                  \n",
      " batch_normalization_18 (BatchN  (None, None, None,   192        ['conv2d_22[0][0]']              \n",
      " ormalization)                  64)                                                               \n",
      "                                                                                                  \n",
      " activation_12 (Activation)     (None, None, None,   0           ['batch_normalization_12[0][0]'] \n",
      "                                64)                                                               \n",
      "                                                                                                  \n",
      " activation_14 (Activation)     (None, None, None,   0           ['batch_normalization_14[0][0]'] \n",
      "                                64)                                                               \n",
      "                                                                                                  \n",
      " activation_17 (Activation)     (None, None, None,   0           ['batch_normalization_17[0][0]'] \n",
      "                                96)                                                               \n",
      "                                                                                                  \n",
      " activation_18 (Activation)     (None, None, None,   0           ['batch_normalization_18[0][0]'] \n",
      "                                64)                                                               \n",
      "                                                                                                  \n",
      " mixed1 (Concatenate)           (None, None, None,   0           ['activation_12[0][0]',          \n",
      "                                288)                              'activation_14[0][0]',          \n",
      "                                                                  'activation_17[0][0]',          \n",
      "                                                                  'activation_18[0][0]']          \n",
      "                                                                                                  \n",
      " conv2d_26 (Conv2D)             (None, None, None,   18432       ['mixed1[0][0]']                 \n",
      "                                64)                                                               \n",
      "                                                                                                  \n",
      " batch_normalization_22 (BatchN  (None, None, None,   192        ['conv2d_26[0][0]']              \n",
      " ormalization)                  64)                                                               \n",
      "                                                                                                  \n",
      " activation_22 (Activation)     (None, None, None,   0           ['batch_normalization_22[0][0]'] \n",
      "                                64)                                                               \n",
      "                                                                                                  \n",
      " conv2d_24 (Conv2D)             (None, None, None,   13824       ['mixed1[0][0]']                 \n",
      "                                48)                                                               \n",
      "                                                                                                  \n",
      " conv2d_27 (Conv2D)             (None, None, None,   55296       ['activation_22[0][0]']          \n",
      "                                96)                                                               \n",
      "                                                                                                  \n",
      " batch_normalization_20 (BatchN  (None, None, None,   144        ['conv2d_24[0][0]']              \n",
      " ormalization)                  48)                                                               \n",
      "                                                                                                  \n",
      " batch_normalization_23 (BatchN  (None, None, None,   288        ['conv2d_27[0][0]']              \n",
      " ormalization)                  96)                                                               \n",
      "                                                                                                  \n",
      " activation_20 (Activation)     (None, None, None,   0           ['batch_normalization_20[0][0]'] \n",
      "                                48)                                                               \n",
      "                                                                                                  \n",
      " activation_23 (Activation)     (None, None, None,   0           ['batch_normalization_23[0][0]'] \n",
      "                                96)                                                               \n",
      "                                                                                                  \n",
      " average_pooling2d_2 (AveragePo  (None, None, None,   0          ['mixed1[0][0]']                 \n",
      " oling2D)                       288)                                                              \n",
      "                                                                                                  \n",
      " conv2d_23 (Conv2D)             (None, None, None,   18432       ['mixed1[0][0]']                 \n",
      "                                64)                                                               \n",
      "                                                                                                  \n",
      " conv2d_25 (Conv2D)             (None, None, None,   76800       ['activation_20[0][0]']          \n",
      "                                64)                                                               \n",
      "                                                                                                  \n",
      " conv2d_28 (Conv2D)             (None, None, None,   82944       ['activation_23[0][0]']          \n",
      "                                96)                                                               \n",
      "                                                                                                  \n",
      " conv2d_29 (Conv2D)             (None, None, None,   18432       ['average_pooling2d_2[0][0]']    \n",
      "                                64)                                                               \n",
      "                                                                                                  \n",
      " batch_normalization_19 (BatchN  (None, None, None,   192        ['conv2d_23[0][0]']              \n",
      " ormalization)                  64)                                                               \n",
      "                                                                                                  \n",
      " batch_normalization_21 (BatchN  (None, None, None,   192        ['conv2d_25[0][0]']              \n",
      " ormalization)                  64)                                                               \n",
      "                                                                                                  \n",
      " batch_normalization_24 (BatchN  (None, None, None,   288        ['conv2d_28[0][0]']              \n",
      " ormalization)                  96)                                                               \n",
      "                                                                                                  \n",
      " batch_normalization_25 (BatchN  (None, None, None,   192        ['conv2d_29[0][0]']              \n",
      " ormalization)                  64)                                                               \n",
      "                                                                                                  \n",
      " activation_19 (Activation)     (None, None, None,   0           ['batch_normalization_19[0][0]'] \n",
      "                                64)                                                               \n",
      "                                                                                                  \n",
      " activation_21 (Activation)     (None, None, None,   0           ['batch_normalization_21[0][0]'] \n",
      "                                64)                                                               \n",
      "                                                                                                  \n",
      " activation_24 (Activation)     (None, None, None,   0           ['batch_normalization_24[0][0]'] \n",
      "                                96)                                                               \n",
      "                                                                                                  \n",
      " activation_25 (Activation)     (None, None, None,   0           ['batch_normalization_25[0][0]'] \n",
      "                                64)                                                               \n",
      "                                                                                                  \n",
      " mixed2 (Concatenate)           (None, None, None,   0           ['activation_19[0][0]',          \n",
      "                                288)                              'activation_21[0][0]',          \n",
      "                                                                  'activation_24[0][0]',          \n",
      "                                                                  'activation_25[0][0]']          \n",
      "                                                                                                  \n",
      " conv2d_31 (Conv2D)             (None, None, None,   18432       ['mixed2[0][0]']                 \n",
      "                                64)                                                               \n",
      "                                                                                                  \n",
      " batch_normalization_27 (BatchN  (None, None, None,   192        ['conv2d_31[0][0]']              \n",
      " ormalization)                  64)                                                               \n",
      "                                                                                                  \n",
      " activation_27 (Activation)     (None, None, None,   0           ['batch_normalization_27[0][0]'] \n",
      "                                64)                                                               \n",
      "                                                                                                  \n",
      " conv2d_32 (Conv2D)             (None, None, None,   55296       ['activation_27[0][0]']          \n",
      "                                96)                                                               \n",
      "                                                                                                  \n",
      " batch_normalization_28 (BatchN  (None, None, None,   288        ['conv2d_32[0][0]']              \n",
      " ormalization)                  96)                                                               \n",
      "                                                                                                  \n",
      " activation_28 (Activation)     (None, None, None,   0           ['batch_normalization_28[0][0]'] \n",
      "                                96)                                                               \n",
      "                                                                                                  \n",
      " conv2d_30 (Conv2D)             (None, None, None,   995328      ['mixed2[0][0]']                 \n",
      "                                384)                                                              \n",
      "                                                                                                  \n",
      " conv2d_33 (Conv2D)             (None, None, None,   82944       ['activation_28[0][0]']          \n",
      "                                96)                                                               \n",
      "                                                                                                  \n",
      " batch_normalization_26 (BatchN  (None, None, None,   1152       ['conv2d_30[0][0]']              \n",
      " ormalization)                  384)                                                              \n",
      "                                                                                                  \n",
      " batch_normalization_29 (BatchN  (None, None, None,   288        ['conv2d_33[0][0]']              \n",
      " ormalization)                  96)                                                               \n",
      "                                                                                                  \n",
      " activation_26 (Activation)     (None, None, None,   0           ['batch_normalization_26[0][0]'] \n",
      "                                384)                                                              \n",
      "                                                                                                  \n",
      " activation_29 (Activation)     (None, None, None,   0           ['batch_normalization_29[0][0]'] \n",
      "                                96)                                                               \n",
      "                                                                                                  \n",
      " max_pooling2d_4 (MaxPooling2D)  (None, None, None,   0          ['mixed2[0][0]']                 \n",
      "                                288)                                                              \n",
      "                                                                                                  \n",
      " mixed3 (Concatenate)           (None, None, None,   0           ['activation_26[0][0]',          \n",
      "                                768)                              'activation_29[0][0]',          \n",
      "                                                                  'max_pooling2d_4[0][0]']        \n",
      "                                                                                                  \n",
      " conv2d_38 (Conv2D)             (None, None, None,   98304       ['mixed3[0][0]']                 \n",
      "                                128)                                                              \n",
      "                                                                                                  \n",
      " batch_normalization_34 (BatchN  (None, None, None,   384        ['conv2d_38[0][0]']              \n",
      " ormalization)                  128)                                                              \n",
      "                                                                                                  \n",
      " activation_34 (Activation)     (None, None, None,   0           ['batch_normalization_34[0][0]'] \n",
      "                                128)                                                              \n",
      "                                                                                                  \n",
      " conv2d_39 (Conv2D)             (None, None, None,   114688      ['activation_34[0][0]']          \n",
      "                                128)                                                              \n",
      "                                                                                                  \n",
      " batch_normalization_35 (BatchN  (None, None, None,   384        ['conv2d_39[0][0]']              \n",
      " ormalization)                  128)                                                              \n",
      "                                                                                                  \n",
      " activation_35 (Activation)     (None, None, None,   0           ['batch_normalization_35[0][0]'] \n",
      "                                128)                                                              \n",
      "                                                                                                  \n",
      " conv2d_35 (Conv2D)             (None, None, None,   98304       ['mixed3[0][0]']                 \n",
      "                                128)                                                              \n",
      "                                                                                                  \n",
      " conv2d_40 (Conv2D)             (None, None, None,   114688      ['activation_35[0][0]']          \n",
      "                                128)                                                              \n",
      "                                                                                                  \n",
      " batch_normalization_31 (BatchN  (None, None, None,   384        ['conv2d_35[0][0]']              \n",
      " ormalization)                  128)                                                              \n",
      "                                                                                                  \n",
      " batch_normalization_36 (BatchN  (None, None, None,   384        ['conv2d_40[0][0]']              \n",
      " ormalization)                  128)                                                              \n",
      "                                                                                                  \n",
      " activation_31 (Activation)     (None, None, None,   0           ['batch_normalization_31[0][0]'] \n",
      "                                128)                                                              \n",
      "                                                                                                  \n",
      " activation_36 (Activation)     (None, None, None,   0           ['batch_normalization_36[0][0]'] \n",
      "                                128)                                                              \n",
      "                                                                                                  \n",
      " conv2d_36 (Conv2D)             (None, None, None,   114688      ['activation_31[0][0]']          \n",
      "                                128)                                                              \n",
      "                                                                                                  \n",
      " conv2d_41 (Conv2D)             (None, None, None,   114688      ['activation_36[0][0]']          \n",
      "                                128)                                                              \n",
      "                                                                                                  \n",
      " batch_normalization_32 (BatchN  (None, None, None,   384        ['conv2d_36[0][0]']              \n",
      " ormalization)                  128)                                                              \n",
      "                                                                                                  \n",
      " batch_normalization_37 (BatchN  (None, None, None,   384        ['conv2d_41[0][0]']              \n",
      " ormalization)                  128)                                                              \n",
      "                                                                                                  \n",
      " activation_32 (Activation)     (None, None, None,   0           ['batch_normalization_32[0][0]'] \n",
      "                                128)                                                              \n",
      "                                                                                                  \n",
      " activation_37 (Activation)     (None, None, None,   0           ['batch_normalization_37[0][0]'] \n",
      "                                128)                                                              \n",
      "                                                                                                  \n",
      " average_pooling2d_3 (AveragePo  (None, None, None,   0          ['mixed3[0][0]']                 \n",
      " oling2D)                       768)                                                              \n",
      "                                                                                                  \n",
      " conv2d_34 (Conv2D)             (None, None, None,   147456      ['mixed3[0][0]']                 \n",
      "                                192)                                                              \n",
      "                                                                                                  \n",
      " conv2d_37 (Conv2D)             (None, None, None,   172032      ['activation_32[0][0]']          \n",
      "                                192)                                                              \n",
      "                                                                                                  \n",
      " conv2d_42 (Conv2D)             (None, None, None,   172032      ['activation_37[0][0]']          \n",
      "                                192)                                                              \n",
      "                                                                                                  \n",
      " conv2d_43 (Conv2D)             (None, None, None,   147456      ['average_pooling2d_3[0][0]']    \n",
      "                                192)                                                              \n",
      "                                                                                                  \n",
      " batch_normalization_30 (BatchN  (None, None, None,   576        ['conv2d_34[0][0]']              \n",
      " ormalization)                  192)                                                              \n",
      "                                                                                                  \n",
      " batch_normalization_33 (BatchN  (None, None, None,   576        ['conv2d_37[0][0]']              \n",
      " ormalization)                  192)                                                              \n",
      "                                                                                                  \n",
      " batch_normalization_38 (BatchN  (None, None, None,   576        ['conv2d_42[0][0]']              \n",
      " ormalization)                  192)                                                              \n",
      "                                                                                                  \n",
      " batch_normalization_39 (BatchN  (None, None, None,   576        ['conv2d_43[0][0]']              \n",
      " ormalization)                  192)                                                              \n",
      "                                                                                                  \n",
      " activation_30 (Activation)     (None, None, None,   0           ['batch_normalization_30[0][0]'] \n",
      "                                192)                                                              \n",
      "                                                                                                  \n",
      " activation_33 (Activation)     (None, None, None,   0           ['batch_normalization_33[0][0]'] \n",
      "                                192)                                                              \n",
      "                                                                                                  \n",
      " activation_38 (Activation)     (None, None, None,   0           ['batch_normalization_38[0][0]'] \n",
      "                                192)                                                              \n",
      "                                                                                                  \n",
      " activation_39 (Activation)     (None, None, None,   0           ['batch_normalization_39[0][0]'] \n",
      "                                192)                                                              \n",
      "                                                                                                  \n",
      " mixed4 (Concatenate)           (None, None, None,   0           ['activation_30[0][0]',          \n",
      "                                768)                              'activation_33[0][0]',          \n",
      "                                                                  'activation_38[0][0]',          \n",
      "                                                                  'activation_39[0][0]']          \n",
      "                                                                                                  \n",
      " conv2d_48 (Conv2D)             (None, None, None,   122880      ['mixed4[0][0]']                 \n",
      "                                160)                                                              \n",
      "                                                                                                  \n",
      " batch_normalization_44 (BatchN  (None, None, None,   480        ['conv2d_48[0][0]']              \n",
      " ormalization)                  160)                                                              \n",
      "                                                                                                  \n",
      " activation_44 (Activation)     (None, None, None,   0           ['batch_normalization_44[0][0]'] \n",
      "                                160)                                                              \n",
      "                                                                                                  \n",
      " conv2d_49 (Conv2D)             (None, None, None,   179200      ['activation_44[0][0]']          \n",
      "                                160)                                                              \n",
      "                                                                                                  \n",
      " batch_normalization_45 (BatchN  (None, None, None,   480        ['conv2d_49[0][0]']              \n",
      " ormalization)                  160)                                                              \n",
      "                                                                                                  \n",
      " activation_45 (Activation)     (None, None, None,   0           ['batch_normalization_45[0][0]'] \n",
      "                                160)                                                              \n",
      "                                                                                                  \n",
      " conv2d_45 (Conv2D)             (None, None, None,   122880      ['mixed4[0][0]']                 \n",
      "                                160)                                                              \n",
      "                                                                                                  \n",
      " conv2d_50 (Conv2D)             (None, None, None,   179200      ['activation_45[0][0]']          \n",
      "                                160)                                                              \n",
      "                                                                                                  \n",
      " batch_normalization_41 (BatchN  (None, None, None,   480        ['conv2d_45[0][0]']              \n",
      " ormalization)                  160)                                                              \n",
      "                                                                                                  \n",
      " batch_normalization_46 (BatchN  (None, None, None,   480        ['conv2d_50[0][0]']              \n",
      " ormalization)                  160)                                                              \n",
      "                                                                                                  \n",
      " activation_41 (Activation)     (None, None, None,   0           ['batch_normalization_41[0][0]'] \n",
      "                                160)                                                              \n",
      "                                                                                                  \n",
      " activation_46 (Activation)     (None, None, None,   0           ['batch_normalization_46[0][0]'] \n",
      "                                160)                                                              \n",
      "                                                                                                  \n",
      " conv2d_46 (Conv2D)             (None, None, None,   179200      ['activation_41[0][0]']          \n",
      "                                160)                                                              \n",
      "                                                                                                  \n",
      " conv2d_51 (Conv2D)             (None, None, None,   179200      ['activation_46[0][0]']          \n",
      "                                160)                                                              \n",
      "                                                                                                  \n",
      " batch_normalization_42 (BatchN  (None, None, None,   480        ['conv2d_46[0][0]']              \n",
      " ormalization)                  160)                                                              \n",
      "                                                                                                  \n",
      " batch_normalization_47 (BatchN  (None, None, None,   480        ['conv2d_51[0][0]']              \n",
      " ormalization)                  160)                                                              \n",
      "                                                                                                  \n",
      " activation_42 (Activation)     (None, None, None,   0           ['batch_normalization_42[0][0]'] \n",
      "                                160)                                                              \n",
      "                                                                                                  \n",
      " activation_47 (Activation)     (None, None, None,   0           ['batch_normalization_47[0][0]'] \n",
      "                                160)                                                              \n",
      "                                                                                                  \n",
      " average_pooling2d_4 (AveragePo  (None, None, None,   0          ['mixed4[0][0]']                 \n",
      " oling2D)                       768)                                                              \n",
      "                                                                                                  \n",
      " conv2d_44 (Conv2D)             (None, None, None,   147456      ['mixed4[0][0]']                 \n",
      "                                192)                                                              \n",
      "                                                                                                  \n",
      " conv2d_47 (Conv2D)             (None, None, None,   215040      ['activation_42[0][0]']          \n",
      "                                192)                                                              \n",
      "                                                                                                  \n",
      " conv2d_52 (Conv2D)             (None, None, None,   215040      ['activation_47[0][0]']          \n",
      "                                192)                                                              \n",
      "                                                                                                  \n",
      " conv2d_53 (Conv2D)             (None, None, None,   147456      ['average_pooling2d_4[0][0]']    \n",
      "                                192)                                                              \n",
      "                                                                                                  \n",
      " batch_normalization_40 (BatchN  (None, None, None,   576        ['conv2d_44[0][0]']              \n",
      " ormalization)                  192)                                                              \n",
      "                                                                                                  \n",
      " batch_normalization_43 (BatchN  (None, None, None,   576        ['conv2d_47[0][0]']              \n",
      " ormalization)                  192)                                                              \n",
      "                                                                                                  \n",
      " batch_normalization_48 (BatchN  (None, None, None,   576        ['conv2d_52[0][0]']              \n",
      " ormalization)                  192)                                                              \n",
      "                                                                                                  \n",
      " batch_normalization_49 (BatchN  (None, None, None,   576        ['conv2d_53[0][0]']              \n",
      " ormalization)                  192)                                                              \n",
      "                                                                                                  \n",
      " activation_40 (Activation)     (None, None, None,   0           ['batch_normalization_40[0][0]'] \n",
      "                                192)                                                              \n",
      "                                                                                                  \n",
      " activation_43 (Activation)     (None, None, None,   0           ['batch_normalization_43[0][0]'] \n",
      "                                192)                                                              \n",
      "                                                                                                  \n",
      " activation_48 (Activation)     (None, None, None,   0           ['batch_normalization_48[0][0]'] \n",
      "                                192)                                                              \n",
      "                                                                                                  \n",
      " activation_49 (Activation)     (None, None, None,   0           ['batch_normalization_49[0][0]'] \n",
      "                                192)                                                              \n",
      "                                                                                                  \n",
      " mixed5 (Concatenate)           (None, None, None,   0           ['activation_40[0][0]',          \n",
      "                                768)                              'activation_43[0][0]',          \n",
      "                                                                  'activation_48[0][0]',          \n",
      "                                                                  'activation_49[0][0]']          \n",
      "                                                                                                  \n",
      " conv2d_58 (Conv2D)             (None, None, None,   122880      ['mixed5[0][0]']                 \n",
      "                                160)                                                              \n",
      "                                                                                                  \n",
      " batch_normalization_54 (BatchN  (None, None, None,   480        ['conv2d_58[0][0]']              \n",
      " ormalization)                  160)                                                              \n",
      "                                                                                                  \n",
      " activation_54 (Activation)     (None, None, None,   0           ['batch_normalization_54[0][0]'] \n",
      "                                160)                                                              \n",
      "                                                                                                  \n",
      " conv2d_59 (Conv2D)             (None, None, None,   179200      ['activation_54[0][0]']          \n",
      "                                160)                                                              \n",
      "                                                                                                  \n",
      " batch_normalization_55 (BatchN  (None, None, None,   480        ['conv2d_59[0][0]']              \n",
      " ormalization)                  160)                                                              \n",
      "                                                                                                  \n",
      " activation_55 (Activation)     (None, None, None,   0           ['batch_normalization_55[0][0]'] \n",
      "                                160)                                                              \n",
      "                                                                                                  \n",
      " conv2d_55 (Conv2D)             (None, None, None,   122880      ['mixed5[0][0]']                 \n",
      "                                160)                                                              \n",
      "                                                                                                  \n",
      " conv2d_60 (Conv2D)             (None, None, None,   179200      ['activation_55[0][0]']          \n",
      "                                160)                                                              \n",
      "                                                                                                  \n",
      " batch_normalization_51 (BatchN  (None, None, None,   480        ['conv2d_55[0][0]']              \n",
      " ormalization)                  160)                                                              \n",
      "                                                                                                  \n",
      " batch_normalization_56 (BatchN  (None, None, None,   480        ['conv2d_60[0][0]']              \n",
      " ormalization)                  160)                                                              \n",
      "                                                                                                  \n",
      " activation_51 (Activation)     (None, None, None,   0           ['batch_normalization_51[0][0]'] \n",
      "                                160)                                                              \n",
      "                                                                                                  \n",
      " activation_56 (Activation)     (None, None, None,   0           ['batch_normalization_56[0][0]'] \n",
      "                                160)                                                              \n",
      "                                                                                                  \n",
      " conv2d_56 (Conv2D)             (None, None, None,   179200      ['activation_51[0][0]']          \n",
      "                                160)                                                              \n",
      "                                                                                                  \n",
      " conv2d_61 (Conv2D)             (None, None, None,   179200      ['activation_56[0][0]']          \n",
      "                                160)                                                              \n",
      "                                                                                                  \n",
      " batch_normalization_52 (BatchN  (None, None, None,   480        ['conv2d_56[0][0]']              \n",
      " ormalization)                  160)                                                              \n",
      "                                                                                                  \n",
      " batch_normalization_57 (BatchN  (None, None, None,   480        ['conv2d_61[0][0]']              \n",
      " ormalization)                  160)                                                              \n",
      "                                                                                                  \n",
      " activation_52 (Activation)     (None, None, None,   0           ['batch_normalization_52[0][0]'] \n",
      "                                160)                                                              \n",
      "                                                                                                  \n",
      " activation_57 (Activation)     (None, None, None,   0           ['batch_normalization_57[0][0]'] \n",
      "                                160)                                                              \n",
      "                                                                                                  \n",
      " average_pooling2d_5 (AveragePo  (None, None, None,   0          ['mixed5[0][0]']                 \n",
      " oling2D)                       768)                                                              \n",
      "                                                                                                  \n",
      " conv2d_54 (Conv2D)             (None, None, None,   147456      ['mixed5[0][0]']                 \n",
      "                                192)                                                              \n",
      "                                                                                                  \n",
      " conv2d_57 (Conv2D)             (None, None, None,   215040      ['activation_52[0][0]']          \n",
      "                                192)                                                              \n",
      "                                                                                                  \n",
      " conv2d_62 (Conv2D)             (None, None, None,   215040      ['activation_57[0][0]']          \n",
      "                                192)                                                              \n",
      "                                                                                                  \n",
      " conv2d_63 (Conv2D)             (None, None, None,   147456      ['average_pooling2d_5[0][0]']    \n",
      "                                192)                                                              \n",
      "                                                                                                  \n",
      " batch_normalization_50 (BatchN  (None, None, None,   576        ['conv2d_54[0][0]']              \n",
      " ormalization)                  192)                                                              \n",
      "                                                                                                  \n",
      " batch_normalization_53 (BatchN  (None, None, None,   576        ['conv2d_57[0][0]']              \n",
      " ormalization)                  192)                                                              \n",
      "                                                                                                  \n",
      " batch_normalization_58 (BatchN  (None, None, None,   576        ['conv2d_62[0][0]']              \n",
      " ormalization)                  192)                                                              \n",
      "                                                                                                  \n",
      " batch_normalization_59 (BatchN  (None, None, None,   576        ['conv2d_63[0][0]']              \n",
      " ormalization)                  192)                                                              \n",
      "                                                                                                  \n",
      " activation_50 (Activation)     (None, None, None,   0           ['batch_normalization_50[0][0]'] \n",
      "                                192)                                                              \n",
      "                                                                                                  \n",
      " activation_53 (Activation)     (None, None, None,   0           ['batch_normalization_53[0][0]'] \n",
      "                                192)                                                              \n",
      "                                                                                                  \n",
      " activation_58 (Activation)     (None, None, None,   0           ['batch_normalization_58[0][0]'] \n",
      "                                192)                                                              \n",
      "                                                                                                  \n",
      " activation_59 (Activation)     (None, None, None,   0           ['batch_normalization_59[0][0]'] \n",
      "                                192)                                                              \n",
      "                                                                                                  \n",
      " mixed6 (Concatenate)           (None, None, None,   0           ['activation_50[0][0]',          \n",
      "                                768)                              'activation_53[0][0]',          \n",
      "                                                                  'activation_58[0][0]',          \n",
      "                                                                  'activation_59[0][0]']          \n",
      "                                                                                                  \n",
      " conv2d_68 (Conv2D)             (None, None, None,   147456      ['mixed6[0][0]']                 \n",
      "                                192)                                                              \n",
      "                                                                                                  \n",
      " batch_normalization_64 (BatchN  (None, None, None,   576        ['conv2d_68[0][0]']              \n",
      " ormalization)                  192)                                                              \n",
      "                                                                                                  \n",
      " activation_64 (Activation)     (None, None, None,   0           ['batch_normalization_64[0][0]'] \n",
      "                                192)                                                              \n",
      "                                                                                                  \n",
      " conv2d_69 (Conv2D)             (None, None, None,   258048      ['activation_64[0][0]']          \n",
      "                                192)                                                              \n",
      "                                                                                                  \n",
      " batch_normalization_65 (BatchN  (None, None, None,   576        ['conv2d_69[0][0]']              \n",
      " ormalization)                  192)                                                              \n",
      "                                                                                                  \n",
      " activation_65 (Activation)     (None, None, None,   0           ['batch_normalization_65[0][0]'] \n",
      "                                192)                                                              \n",
      "                                                                                                  \n",
      " conv2d_65 (Conv2D)             (None, None, None,   147456      ['mixed6[0][0]']                 \n",
      "                                192)                                                              \n",
      "                                                                                                  \n",
      " conv2d_70 (Conv2D)             (None, None, None,   258048      ['activation_65[0][0]']          \n",
      "                                192)                                                              \n",
      "                                                                                                  \n",
      " batch_normalization_61 (BatchN  (None, None, None,   576        ['conv2d_65[0][0]']              \n",
      " ormalization)                  192)                                                              \n",
      "                                                                                                  \n",
      " batch_normalization_66 (BatchN  (None, None, None,   576        ['conv2d_70[0][0]']              \n",
      " ormalization)                  192)                                                              \n",
      "                                                                                                  \n",
      " activation_61 (Activation)     (None, None, None,   0           ['batch_normalization_61[0][0]'] \n",
      "                                192)                                                              \n",
      "                                                                                                  \n",
      " activation_66 (Activation)     (None, None, None,   0           ['batch_normalization_66[0][0]'] \n",
      "                                192)                                                              \n",
      "                                                                                                  \n",
      " conv2d_66 (Conv2D)             (None, None, None,   258048      ['activation_61[0][0]']          \n",
      "                                192)                                                              \n",
      "                                                                                                  \n",
      " conv2d_71 (Conv2D)             (None, None, None,   258048      ['activation_66[0][0]']          \n",
      "                                192)                                                              \n",
      "                                                                                                  \n",
      " batch_normalization_62 (BatchN  (None, None, None,   576        ['conv2d_66[0][0]']              \n",
      " ormalization)                  192)                                                              \n",
      "                                                                                                  \n",
      " batch_normalization_67 (BatchN  (None, None, None,   576        ['conv2d_71[0][0]']              \n",
      " ormalization)                  192)                                                              \n",
      "                                                                                                  \n",
      " activation_62 (Activation)     (None, None, None,   0           ['batch_normalization_62[0][0]'] \n",
      "                                192)                                                              \n",
      "                                                                                                  \n",
      " activation_67 (Activation)     (None, None, None,   0           ['batch_normalization_67[0][0]'] \n",
      "                                192)                                                              \n",
      "                                                                                                  \n",
      " average_pooling2d_6 (AveragePo  (None, None, None,   0          ['mixed6[0][0]']                 \n",
      " oling2D)                       768)                                                              \n",
      "                                                                                                  \n",
      " conv2d_64 (Conv2D)             (None, None, None,   147456      ['mixed6[0][0]']                 \n",
      "                                192)                                                              \n",
      "                                                                                                  \n",
      " conv2d_67 (Conv2D)             (None, None, None,   258048      ['activation_62[0][0]']          \n",
      "                                192)                                                              \n",
      "                                                                                                  \n",
      " conv2d_72 (Conv2D)             (None, None, None,   258048      ['activation_67[0][0]']          \n",
      "                                192)                                                              \n",
      "                                                                                                  \n",
      " conv2d_73 (Conv2D)             (None, None, None,   147456      ['average_pooling2d_6[0][0]']    \n",
      "                                192)                                                              \n",
      "                                                                                                  \n",
      " batch_normalization_60 (BatchN  (None, None, None,   576        ['conv2d_64[0][0]']              \n",
      " ormalization)                  192)                                                              \n",
      "                                                                                                  \n",
      " batch_normalization_63 (BatchN  (None, None, None,   576        ['conv2d_67[0][0]']              \n",
      " ormalization)                  192)                                                              \n",
      "                                                                                                  \n",
      " batch_normalization_68 (BatchN  (None, None, None,   576        ['conv2d_72[0][0]']              \n",
      " ormalization)                  192)                                                              \n",
      "                                                                                                  \n",
      " batch_normalization_69 (BatchN  (None, None, None,   576        ['conv2d_73[0][0]']              \n",
      " ormalization)                  192)                                                              \n",
      "                                                                                                  \n",
      " activation_60 (Activation)     (None, None, None,   0           ['batch_normalization_60[0][0]'] \n",
      "                                192)                                                              \n",
      "                                                                                                  \n",
      " activation_63 (Activation)     (None, None, None,   0           ['batch_normalization_63[0][0]'] \n",
      "                                192)                                                              \n",
      "                                                                                                  \n",
      " activation_68 (Activation)     (None, None, None,   0           ['batch_normalization_68[0][0]'] \n",
      "                                192)                                                              \n",
      "                                                                                                  \n",
      " activation_69 (Activation)     (None, None, None,   0           ['batch_normalization_69[0][0]'] \n",
      "                                192)                                                              \n",
      "                                                                                                  \n",
      " mixed7 (Concatenate)           (None, None, None,   0           ['activation_60[0][0]',          \n",
      "                                768)                              'activation_63[0][0]',          \n",
      "                                                                  'activation_68[0][0]',          \n",
      "                                                                  'activation_69[0][0]']          \n",
      "                                                                                                  \n",
      " conv2d_76 (Conv2D)             (None, None, None,   147456      ['mixed7[0][0]']                 \n",
      "                                192)                                                              \n",
      "                                                                                                  \n",
      " batch_normalization_72 (BatchN  (None, None, None,   576        ['conv2d_76[0][0]']              \n",
      " ormalization)                  192)                                                              \n",
      "                                                                                                  \n",
      " activation_72 (Activation)     (None, None, None,   0           ['batch_normalization_72[0][0]'] \n",
      "                                192)                                                              \n",
      "                                                                                                  \n",
      " conv2d_77 (Conv2D)             (None, None, None,   258048      ['activation_72[0][0]']          \n",
      "                                192)                                                              \n",
      "                                                                                                  \n",
      " batch_normalization_73 (BatchN  (None, None, None,   576        ['conv2d_77[0][0]']              \n",
      " ormalization)                  192)                                                              \n",
      "                                                                                                  \n",
      " activation_73 (Activation)     (None, None, None,   0           ['batch_normalization_73[0][0]'] \n",
      "                                192)                                                              \n",
      "                                                                                                  \n",
      " conv2d_74 (Conv2D)             (None, None, None,   147456      ['mixed7[0][0]']                 \n",
      "                                192)                                                              \n",
      "                                                                                                  \n",
      " conv2d_78 (Conv2D)             (None, None, None,   258048      ['activation_73[0][0]']          \n",
      "                                192)                                                              \n",
      "                                                                                                  \n",
      " batch_normalization_70 (BatchN  (None, None, None,   576        ['conv2d_74[0][0]']              \n",
      " ormalization)                  192)                                                              \n",
      "                                                                                                  \n",
      " batch_normalization_74 (BatchN  (None, None, None,   576        ['conv2d_78[0][0]']              \n",
      " ormalization)                  192)                                                              \n",
      "                                                                                                  \n",
      " activation_70 (Activation)     (None, None, None,   0           ['batch_normalization_70[0][0]'] \n",
      "                                192)                                                              \n",
      "                                                                                                  \n",
      " activation_74 (Activation)     (None, None, None,   0           ['batch_normalization_74[0][0]'] \n",
      "                                192)                                                              \n",
      "                                                                                                  \n",
      " conv2d_75 (Conv2D)             (None, None, None,   552960      ['activation_70[0][0]']          \n",
      "                                320)                                                              \n",
      "                                                                                                  \n",
      " conv2d_79 (Conv2D)             (None, None, None,   331776      ['activation_74[0][0]']          \n",
      "                                192)                                                              \n",
      "                                                                                                  \n",
      " batch_normalization_71 (BatchN  (None, None, None,   960        ['conv2d_75[0][0]']              \n",
      " ormalization)                  320)                                                              \n",
      "                                                                                                  \n",
      " batch_normalization_75 (BatchN  (None, None, None,   576        ['conv2d_79[0][0]']              \n",
      " ormalization)                  192)                                                              \n",
      "                                                                                                  \n",
      " activation_71 (Activation)     (None, None, None,   0           ['batch_normalization_71[0][0]'] \n",
      "                                320)                                                              \n",
      "                                                                                                  \n",
      " activation_75 (Activation)     (None, None, None,   0           ['batch_normalization_75[0][0]'] \n",
      "                                192)                                                              \n",
      "                                                                                                  \n",
      " max_pooling2d_5 (MaxPooling2D)  (None, None, None,   0          ['mixed7[0][0]']                 \n",
      "                                768)                                                              \n",
      "                                                                                                  \n",
      " mixed8 (Concatenate)           (None, None, None,   0           ['activation_71[0][0]',          \n",
      "                                1280)                             'activation_75[0][0]',          \n",
      "                                                                  'max_pooling2d_5[0][0]']        \n",
      "                                                                                                  \n",
      " conv2d_84 (Conv2D)             (None, None, None,   573440      ['mixed8[0][0]']                 \n",
      "                                448)                                                              \n",
      "                                                                                                  \n",
      " batch_normalization_80 (BatchN  (None, None, None,   1344       ['conv2d_84[0][0]']              \n",
      " ormalization)                  448)                                                              \n",
      "                                                                                                  \n",
      " activation_80 (Activation)     (None, None, None,   0           ['batch_normalization_80[0][0]'] \n",
      "                                448)                                                              \n",
      "                                                                                                  \n",
      " conv2d_81 (Conv2D)             (None, None, None,   491520      ['mixed8[0][0]']                 \n",
      "                                384)                                                              \n",
      "                                                                                                  \n",
      " conv2d_85 (Conv2D)             (None, None, None,   1548288     ['activation_80[0][0]']          \n",
      "                                384)                                                              \n",
      "                                                                                                  \n",
      " batch_normalization_77 (BatchN  (None, None, None,   1152       ['conv2d_81[0][0]']              \n",
      " ormalization)                  384)                                                              \n",
      "                                                                                                  \n",
      " batch_normalization_81 (BatchN  (None, None, None,   1152       ['conv2d_85[0][0]']              \n",
      " ormalization)                  384)                                                              \n",
      "                                                                                                  \n",
      " activation_77 (Activation)     (None, None, None,   0           ['batch_normalization_77[0][0]'] \n",
      "                                384)                                                              \n",
      "                                                                                                  \n",
      " activation_81 (Activation)     (None, None, None,   0           ['batch_normalization_81[0][0]'] \n",
      "                                384)                                                              \n",
      "                                                                                                  \n",
      " conv2d_82 (Conv2D)             (None, None, None,   442368      ['activation_77[0][0]']          \n",
      "                                384)                                                              \n",
      "                                                                                                  \n",
      " conv2d_83 (Conv2D)             (None, None, None,   442368      ['activation_77[0][0]']          \n",
      "                                384)                                                              \n",
      "                                                                                                  \n",
      " conv2d_86 (Conv2D)             (None, None, None,   442368      ['activation_81[0][0]']          \n",
      "                                384)                                                              \n",
      "                                                                                                  \n",
      " conv2d_87 (Conv2D)             (None, None, None,   442368      ['activation_81[0][0]']          \n",
      "                                384)                                                              \n",
      "                                                                                                  \n",
      " average_pooling2d_7 (AveragePo  (None, None, None,   0          ['mixed8[0][0]']                 \n",
      " oling2D)                       1280)                                                             \n",
      "                                                                                                  \n",
      " conv2d_80 (Conv2D)             (None, None, None,   409600      ['mixed8[0][0]']                 \n",
      "                                320)                                                              \n",
      "                                                                                                  \n",
      " batch_normalization_78 (BatchN  (None, None, None,   1152       ['conv2d_82[0][0]']              \n",
      " ormalization)                  384)                                                              \n",
      "                                                                                                  \n",
      " batch_normalization_79 (BatchN  (None, None, None,   1152       ['conv2d_83[0][0]']              \n",
      " ormalization)                  384)                                                              \n",
      "                                                                                                  \n",
      " batch_normalization_82 (BatchN  (None, None, None,   1152       ['conv2d_86[0][0]']              \n",
      " ormalization)                  384)                                                              \n",
      "                                                                                                  \n",
      " batch_normalization_83 (BatchN  (None, None, None,   1152       ['conv2d_87[0][0]']              \n",
      " ormalization)                  384)                                                              \n",
      "                                                                                                  \n",
      " conv2d_88 (Conv2D)             (None, None, None,   245760      ['average_pooling2d_7[0][0]']    \n",
      "                                192)                                                              \n",
      "                                                                                                  \n",
      " batch_normalization_76 (BatchN  (None, None, None,   960        ['conv2d_80[0][0]']              \n",
      " ormalization)                  320)                                                              \n",
      "                                                                                                  \n",
      " activation_78 (Activation)     (None, None, None,   0           ['batch_normalization_78[0][0]'] \n",
      "                                384)                                                              \n",
      "                                                                                                  \n",
      " activation_79 (Activation)     (None, None, None,   0           ['batch_normalization_79[0][0]'] \n",
      "                                384)                                                              \n",
      "                                                                                                  \n",
      " activation_82 (Activation)     (None, None, None,   0           ['batch_normalization_82[0][0]'] \n",
      "                                384)                                                              \n",
      "                                                                                                  \n",
      " activation_83 (Activation)     (None, None, None,   0           ['batch_normalization_83[0][0]'] \n",
      "                                384)                                                              \n",
      "                                                                                                  \n",
      " batch_normalization_84 (BatchN  (None, None, None,   576        ['conv2d_88[0][0]']              \n",
      " ormalization)                  192)                                                              \n",
      "                                                                                                  \n",
      " activation_76 (Activation)     (None, None, None,   0           ['batch_normalization_76[0][0]'] \n",
      "                                320)                                                              \n",
      "                                                                                                  \n",
      " mixed9_0 (Concatenate)         (None, None, None,   0           ['activation_78[0][0]',          \n",
      "                                768)                              'activation_79[0][0]']          \n",
      "                                                                                                  \n",
      " concatenate (Concatenate)      (None, None, None,   0           ['activation_82[0][0]',          \n",
      "                                768)                              'activation_83[0][0]']          \n",
      "                                                                                                  \n",
      " activation_84 (Activation)     (None, None, None,   0           ['batch_normalization_84[0][0]'] \n",
      "                                192)                                                              \n",
      "                                                                                                  \n",
      " mixed9 (Concatenate)           (None, None, None,   0           ['activation_76[0][0]',          \n",
      "                                2048)                             'mixed9_0[0][0]',               \n",
      "                                                                  'concatenate[0][0]',            \n",
      "                                                                  'activation_84[0][0]']          \n",
      "                                                                                                  \n",
      " conv2d_93 (Conv2D)             (None, None, None,   917504      ['mixed9[0][0]']                 \n",
      "                                448)                                                              \n",
      "                                                                                                  \n",
      " batch_normalization_89 (BatchN  (None, None, None,   1344       ['conv2d_93[0][0]']              \n",
      " ormalization)                  448)                                                              \n",
      "                                                                                                  \n",
      " activation_89 (Activation)     (None, None, None,   0           ['batch_normalization_89[0][0]'] \n",
      "                                448)                                                              \n",
      "                                                                                                  \n",
      " conv2d_90 (Conv2D)             (None, None, None,   786432      ['mixed9[0][0]']                 \n",
      "                                384)                                                              \n",
      "                                                                                                  \n",
      " conv2d_94 (Conv2D)             (None, None, None,   1548288     ['activation_89[0][0]']          \n",
      "                                384)                                                              \n",
      "                                                                                                  \n",
      " batch_normalization_86 (BatchN  (None, None, None,   1152       ['conv2d_90[0][0]']              \n",
      " ormalization)                  384)                                                              \n",
      "                                                                                                  \n",
      " batch_normalization_90 (BatchN  (None, None, None,   1152       ['conv2d_94[0][0]']              \n",
      " ormalization)                  384)                                                              \n",
      "                                                                                                  \n",
      " activation_86 (Activation)     (None, None, None,   0           ['batch_normalization_86[0][0]'] \n",
      "                                384)                                                              \n",
      "                                                                                                  \n",
      " activation_90 (Activation)     (None, None, None,   0           ['batch_normalization_90[0][0]'] \n",
      "                                384)                                                              \n",
      "                                                                                                  \n",
      " conv2d_91 (Conv2D)             (None, None, None,   442368      ['activation_86[0][0]']          \n",
      "                                384)                                                              \n",
      "                                                                                                  \n",
      " conv2d_92 (Conv2D)             (None, None, None,   442368      ['activation_86[0][0]']          \n",
      "                                384)                                                              \n",
      "                                                                                                  \n",
      " conv2d_95 (Conv2D)             (None, None, None,   442368      ['activation_90[0][0]']          \n",
      "                                384)                                                              \n",
      "                                                                                                  \n",
      " conv2d_96 (Conv2D)             (None, None, None,   442368      ['activation_90[0][0]']          \n",
      "                                384)                                                              \n",
      "                                                                                                  \n",
      " average_pooling2d_8 (AveragePo  (None, None, None,   0          ['mixed9[0][0]']                 \n",
      " oling2D)                       2048)                                                             \n",
      "                                                                                                  \n",
      " conv2d_89 (Conv2D)             (None, None, None,   655360      ['mixed9[0][0]']                 \n",
      "                                320)                                                              \n",
      "                                                                                                  \n",
      " batch_normalization_87 (BatchN  (None, None, None,   1152       ['conv2d_91[0][0]']              \n",
      " ormalization)                  384)                                                              \n",
      "                                                                                                  \n",
      " batch_normalization_88 (BatchN  (None, None, None,   1152       ['conv2d_92[0][0]']              \n",
      " ormalization)                  384)                                                              \n",
      "                                                                                                  \n",
      " batch_normalization_91 (BatchN  (None, None, None,   1152       ['conv2d_95[0][0]']              \n",
      " ormalization)                  384)                                                              \n",
      "                                                                                                  \n",
      " batch_normalization_92 (BatchN  (None, None, None,   1152       ['conv2d_96[0][0]']              \n",
      " ormalization)                  384)                                                              \n",
      "                                                                                                  \n",
      " conv2d_97 (Conv2D)             (None, None, None,   393216      ['average_pooling2d_8[0][0]']    \n",
      "                                192)                                                              \n",
      "                                                                                                  \n",
      " batch_normalization_85 (BatchN  (None, None, None,   960        ['conv2d_89[0][0]']              \n",
      " ormalization)                  320)                                                              \n",
      "                                                                                                  \n",
      " activation_87 (Activation)     (None, None, None,   0           ['batch_normalization_87[0][0]'] \n",
      "                                384)                                                              \n",
      "                                                                                                  \n",
      " activation_88 (Activation)     (None, None, None,   0           ['batch_normalization_88[0][0]'] \n",
      "                                384)                                                              \n",
      "                                                                                                  \n",
      " activation_91 (Activation)     (None, None, None,   0           ['batch_normalization_91[0][0]'] \n",
      "                                384)                                                              \n",
      "                                                                                                  \n",
      " activation_92 (Activation)     (None, None, None,   0           ['batch_normalization_92[0][0]'] \n",
      "                                384)                                                              \n",
      "                                                                                                  \n",
      " batch_normalization_93 (BatchN  (None, None, None,   576        ['conv2d_97[0][0]']              \n",
      " ormalization)                  192)                                                              \n",
      "                                                                                                  \n",
      " activation_85 (Activation)     (None, None, None,   0           ['batch_normalization_85[0][0]'] \n",
      "                                320)                                                              \n",
      "                                                                                                  \n",
      " mixed9_1 (Concatenate)         (None, None, None,   0           ['activation_87[0][0]',          \n",
      "                                768)                              'activation_88[0][0]']          \n",
      "                                                                                                  \n",
      " concatenate_1 (Concatenate)    (None, None, None,   0           ['activation_91[0][0]',          \n",
      "                                768)                              'activation_92[0][0]']          \n",
      "                                                                                                  \n",
      " activation_93 (Activation)     (None, None, None,   0           ['batch_normalization_93[0][0]'] \n",
      "                                192)                                                              \n",
      "                                                                                                  \n",
      " mixed10 (Concatenate)          (None, None, None,   0           ['activation_85[0][0]',          \n",
      "                                2048)                             'mixed9_1[0][0]',               \n",
      "                                                                  'concatenate_1[0][0]',          \n",
      "                                                                  'activation_93[0][0]']          \n",
      "                                                                                                  \n",
      " global_average_pooling2d (Glob  (None, 2048)        0           ['mixed10[0][0]']                \n",
      " alAveragePooling2D)                                                                              \n",
      "                                                                                                  \n",
      " dense_1 (Dense)                (None, 1024)         2098176     ['global_average_pooling2d[0][0]'\n",
      "                                                                 ]                                \n",
      "                                                                                                  \n",
      " dropout (Dropout)              (None, 1024)         0           ['dense_1[0][0]']                \n",
      "                                                                                                  \n",
      " dense_2 (Dense)                (None, 512)          524800      ['dropout[0][0]']                \n",
      "                                                                                                  \n",
      " dropout_1 (Dropout)            (None, 512)          0           ['dense_2[0][0]']                \n",
      "                                                                                                  \n",
      " dense_3 (Dense)                (None, 11)           5643        ['dropout_1[0][0]']              \n",
      "                                                                                                  \n",
      "==================================================================================================\n",
      "Total params: 24,431,403\n",
      "Trainable params: 24,396,971\n",
      "Non-trainable params: 34,432\n",
      "__________________________________________________________________________________________________\n"
     ]
    }
   ],
   "source": [
    "base_model = InceptionV3(weights='imagenet', include_top=False)\n",
    "\n",
    "transfer_learning_arch = base_model.output\n",
    "transfer_learning_arch = GlobalAveragePooling2D()(transfer_learning_arch)\n",
    "transfer_learning_arch = Dense(1024, activation='relu')(transfer_learning_arch)\n",
    "transfer_learning_arch = Dropout(0.4)(transfer_learning_arch)\n",
    "transfer_learning_arch = Dense(512, activation='relu')(transfer_learning_arch)\n",
    "transfer_learning_arch = Dropout(0.4)(transfer_learning_arch)\n",
    "predictions = Dense(11, activation='softmax')(transfer_learning_arch)\n",
    "\n",
    "transfer_learning_model = Model(inputs=base_model.input, outputs=predictions)\n",
    "transfer_learning_model.summary()"
   ]
  },
  {
   "cell_type": "code",
   "execution_count": 34,
   "id": "91af35f3",
   "metadata": {},
   "outputs": [],
   "source": [
    "#We freeze the model excepted the added layers\n",
    "#279 is number of mixed 9 layer\n",
    "#248 is number of mixed 8 layer\n",
    "\n",
    "for layer in transfer_learning_model.layers[:280]:\n",
    "    layer.trainable = False\n",
    "for layer in transfer_learning_model.layers[280:]:\n",
    "    layer.trainable = True"
   ]
  },
  {
   "cell_type": "code",
   "execution_count": 35,
   "id": "e9ba473d",
   "metadata": {},
   "outputs": [
    {
     "name": "stderr",
     "output_type": "stream",
     "text": [
      "C:\\Users\\bassa\\AppData\\Local\\Programs\\Python\\Python310\\lib\\site-packages\\keras\\optimizers\\optimizer_v2\\adadelta.py:79: UserWarning: The `lr` argument is deprecated, use `learning_rate` instead.\n",
      "  super().__init__(name, **kwargs)\n"
     ]
    }
   ],
   "source": [
    "opt=Adadelta(lr=1.0, rho=0.9, epsilon=1e-08, decay=0.0)\n",
    "transfer_learning_model.compile(loss='categorical_crossentropy', optimizer=opt, metrics=['accuracy'])"
   ]
  },
  {
   "cell_type": "code",
   "execution_count": 36,
   "id": "a21c3779",
   "metadata": {},
   "outputs": [
    {
     "name": "stdout",
     "output_type": "stream",
     "text": [
      "Epoch 1/15\n",
      "33/33 [==============================] - 38s 1s/step - loss: 0.5777 - accuracy: 0.8415 - val_loss: 0.1824 - val_accuracy: 0.9539\n",
      "Epoch 2/15\n",
      "33/33 [==============================] - 35s 1s/step - loss: 0.0607 - accuracy: 0.9885 - val_loss: 0.1435 - val_accuracy: 0.9654\n",
      "Epoch 3/15\n",
      "33/33 [==============================] - 36s 1s/step - loss: 0.0177 - accuracy: 0.9971 - val_loss: 0.0916 - val_accuracy: 0.9769\n",
      "Epoch 4/15\n",
      "33/33 [==============================] - 36s 1s/step - loss: 0.0057 - accuracy: 0.9990 - val_loss: 0.0873 - val_accuracy: 0.9741\n",
      "Epoch 5/15\n",
      "33/33 [==============================] - 35s 1s/step - loss: 0.0045 - accuracy: 0.9990 - val_loss: 0.0660 - val_accuracy: 0.9798\n",
      "Epoch 6/15\n",
      "33/33 [==============================] - 36s 1s/step - loss: 0.0024 - accuracy: 1.0000 - val_loss: 0.0816 - val_accuracy: 0.9741\n",
      "Epoch 7/15\n",
      "33/33 [==============================] - 36s 1s/step - loss: 0.0031 - accuracy: 0.9990 - val_loss: 0.0726 - val_accuracy: 0.9798\n",
      "Epoch 8/15\n",
      "33/33 [==============================] - 36s 1s/step - loss: 5.9240e-04 - accuracy: 1.0000 - val_loss: 0.0695 - val_accuracy: 0.9798\n",
      "Epoch 9/15\n",
      "33/33 [==============================] - 37s 1s/step - loss: 0.0030 - accuracy: 0.9990 - val_loss: 0.0446 - val_accuracy: 0.9914\n",
      "Epoch 10/15\n",
      "33/33 [==============================] - 36s 1s/step - loss: 0.0022 - accuracy: 0.9990 - val_loss: 0.0443 - val_accuracy: 0.9856\n",
      "Epoch 11/15\n",
      "33/33 [==============================] - 36s 1s/step - loss: 0.0012 - accuracy: 1.0000 - val_loss: 0.0410 - val_accuracy: 0.9827\n",
      "Epoch 12/15\n",
      "33/33 [==============================] - 37s 1s/step - loss: 0.0014 - accuracy: 1.0000 - val_loss: 0.0423 - val_accuracy: 0.9885\n",
      "Epoch 13/15\n",
      "33/33 [==============================] - 38s 1s/step - loss: 4.2163e-04 - accuracy: 1.0000 - val_loss: 0.0412 - val_accuracy: 0.9914\n",
      "Epoch 14/15\n",
      "33/33 [==============================] - 39s 1s/step - loss: 1.8640e-04 - accuracy: 1.0000 - val_loss: 0.0385 - val_accuracy: 0.9885\n",
      "Epoch 15/15\n",
      "33/33 [==============================] - 38s 1s/step - loss: 5.7806e-04 - accuracy: 1.0000 - val_loss: 0.0402 - val_accuracy: 0.9827\n"
     ]
    }
   ],
   "source": [
    "callbacks = [EarlyStopping(monitor='val_loss', patience=4, verbose=1, mode='auto')]\n",
    "history2 = transfer_learning_model.fit(X_train, Y_train, batch_size=32, epochs=15, verbose=1, validation_data=(X_validation,Y_validation), callbacks=callbacks)"
   ]
  },
  {
   "cell_type": "code",
   "execution_count": 40,
   "id": "e41738c0",
   "metadata": {},
   "outputs": [
    {
     "data": {
      "image/png": "[encoded data removed]",
      "text/plain": [
       "<Figure size 432x288 with 1 Axes>"
      ]
     },
     "metadata": {
      "needs_background": "light"
     },
     "output_type": "display_data"
    }
   ],
   "source": [
    "plt.plot(history2.history['accuracy'])\n",
    "plt.plot(history2.history['val_accuracy'])\n",
    "plt.title('model accuracy')\n",
    "plt.ylabel('accuracy')\n",
    "plt.xlabel('epoch')\n",
    "plt.legend(['train', 'test'], loc='upper left')\n",
    "plt.show()"
   ]
  },
  {
   "cell_type": "markdown",
   "id": "e0b0634e",
   "metadata": {},
   "source": [
    "#                                             Thank You"
   ]
  },
  {
   "cell_type": "code",
   "execution_count": null,
   "id": "cdca9308",
   "metadata": {},
   "outputs": [],
   "source": []
  }
 ],
 "metadata": {
  "kernelspec": {
   "display_name": "Python 3 (ipykernel)",
   "language": "python",
   "name": "python3"
  },
  "language_info": {
   "codemirror_mode": {
    "name": "ipython",
    "version": 3
   },
   "file_extension": ".py",
   "mimetype": "text/x-python",
   "name": "python",
   "nbconvert_exporter": "python",
   "pygments_lexer": "ipython3",
   "version": "3.10.5"
  }
 },
 "nbformat": 4,
 "nbformat_minor": 5
}
